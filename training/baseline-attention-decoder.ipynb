{
 "cells": [
  {
   "cell_type": "code",
   "execution_count": 1,
   "metadata": {
    "collapsed": false
   },
   "outputs": [
    {
     "name": "stderr",
     "output_type": "stream",
     "text": [
      "Using TensorFlow backend.\n"
     ]
    }
   ],
   "source": [
    "from keras.models import Sequential, model_from_json\n",
    "from keras.callbacks import ModelCheckpoint, EarlyStopping, ReduceLROnPlateau\n",
    "from keras.constraints import maxnorm\n",
    "from keras import regularizers\n",
    "from keras.layers.normalization import BatchNormalization\n",
    "\n",
    "from keras.layers import *\n",
    "from keras.models import *\n",
    "\n",
    "from keras.regularizers import l2\n",
    "\n",
    "from keras.applications import imagenet_utils, Xception\n",
    "from keras.preprocessing.image import img_to_array\n",
    "import keras.backend as K\n",
    "\n",
    "import numpy as np \n",
    "import json\n",
    "import os\n",
    "import cv2\n",
    "import h5py\n",
    "import pickle\n",
    "\n",
    "import matplotlib.pyplot as plt\n",
    "%matplotlib inline"
   ]
  },
  {
   "cell_type": "code",
   "execution_count": 2,
   "metadata": {
    "collapsed": true
   },
   "outputs": [],
   "source": [
    "import tensorflow as tf\n",
    "config = tf.ConfigProto()\n",
    "config.gpu_options.allow_growth = True\n",
    "session = tf.Session(config=config)"
   ]
  },
  {
   "cell_type": "code",
   "execution_count": 3,
   "metadata": {
    "collapsed": false
   },
   "outputs": [],
   "source": [
    "from helpers import TrainingMonitor\n",
    "from helpers import Utils\n",
    "from helpers import AttentionDecoder"
   ]
  },
  {
   "cell_type": "code",
   "execution_count": 4,
   "metadata": {
    "collapsed": true
   },
   "outputs": [],
   "source": [
    "Xoh_file = open('../input/dataset/Xoh.pickle', 'rb')\n",
    "x = pickle.load(Xoh_file)\n",
    "Xoh_file.close()"
   ]
  },
  {
   "cell_type": "code",
   "execution_count": 5,
   "metadata": {
    "collapsed": true
   },
   "outputs": [],
   "source": [
    "Yoh_file = open('../input/dataset/Yoh.pickle', 'rb')\n",
    "y = pickle.load(Yoh_file)\n",
    "Yoh_file.close()"
   ]
  },
  {
   "cell_type": "code",
   "execution_count": 6,
   "metadata": {
    "collapsed": false
   },
   "outputs": [
    {
     "data": {
      "text/plain": [
       "(30, 37)"
      ]
     },
     "execution_count": 6,
     "metadata": {},
     "output_type": "execute_result"
    }
   ],
   "source": [
    "x[0].shape"
   ]
  },
  {
   "cell_type": "code",
   "execution_count": 7,
   "metadata": {
    "collapsed": false
   },
   "outputs": [
    {
     "data": {
      "text/plain": [
       "(10, 11)"
      ]
     },
     "execution_count": 7,
     "metadata": {},
     "output_type": "execute_result"
    }
   ],
   "source": [
    "y[0].shape"
   ]
  },
  {
   "cell_type": "code",
   "execution_count": 8,
   "metadata": {
    "collapsed": false
   },
   "outputs": [],
   "source": [
    "train_split, val_split = 0.7, 0.15\n",
    "\n",
    "train_len = int(train_split * x.shape[0])\n",
    "train_val_len = int((train_split + val_split) * x.shape[0])\n",
    "\n",
    "x_train = x[:train_len]\n",
    "x_val = x[train_len:train_val_len]\n",
    "x_test = x[train_val_len:]\n",
    "\n",
    "y_train = y[:train_len]\n",
    "y_val = y[train_len:train_val_len]\n",
    "y_test = y[train_val_len:]"
   ]
  },
  {
   "cell_type": "code",
   "execution_count": 9,
   "metadata": {
    "collapsed": false
   },
   "outputs": [
    {
     "data": {
      "text/plain": [
       "(700, 30, 37)"
      ]
     },
     "execution_count": 9,
     "metadata": {},
     "output_type": "execute_result"
    }
   ],
   "source": [
    "x_train.shape"
   ]
  },
  {
   "cell_type": "code",
   "execution_count": 10,
   "metadata": {
    "collapsed": true
   },
   "outputs": [],
   "source": [
    "TIME_STEPS = x_train.shape[1]\n",
    "INPUT_DIM = x_train.shape[2]"
   ]
  },
  {
   "cell_type": "code",
   "execution_count": 11,
   "metadata": {
    "collapsed": false
   },
   "outputs": [
    {
     "data": {
      "text/plain": [
       "(700, 10, 11)"
      ]
     },
     "execution_count": 11,
     "metadata": {},
     "output_type": "execute_result"
    }
   ],
   "source": [
    "y_train.shape"
   ]
  },
  {
   "cell_type": "code",
   "execution_count": 15,
   "metadata": {
    "collapsed": false
   },
   "outputs": [],
   "source": [
    "model = Sequential()\n",
    "model.add(LSTM(128, input_shape=(TIME_STEPS, INPUT_DIM)))\n",
    "model.add(RepeatVector(10))\n",
    "model.add(AttentionDecoder(128, 11))"
   ]
  },
  {
   "cell_type": "code",
   "execution_count": 16,
   "metadata": {
    "collapsed": false
   },
   "outputs": [
    {
     "name": "stdout",
     "output_type": "stream",
     "text": [
      "_________________________________________________________________\n",
      "Layer (type)                 Output Shape              Param #   \n",
      "=================================================================\n",
      "lstm_3 (LSTM)                (None, 128)               84992     \n",
      "_________________________________________________________________\n",
      "repeat_vector_2 (RepeatVecto (None, 10, 128)           0         \n",
      "_________________________________________________________________\n",
      "AttentionDecoder (AttentionD (None, 10, 11)            155268    \n",
      "=================================================================\n",
      "Total params: 240,260\n",
      "Trainable params: 240,260\n",
      "Non-trainable params: 0\n",
      "_________________________________________________________________\n"
     ]
    }
   ],
   "source": [
    "model.summary()"
   ]
  },
  {
   "cell_type": "code",
   "execution_count": 17,
   "metadata": {
    "collapsed": true
   },
   "outputs": [],
   "source": [
    "model.compile(loss=\"categorical_crossentropy\", optimizer=\"adam\", metrics=[\"accuracy\"]) "
   ]
  },
  {
   "cell_type": "code",
   "execution_count": 18,
   "metadata": {
    "collapsed": false
   },
   "outputs": [
    {
     "name": "stdout",
     "output_type": "stream",
     "text": [
      "2292\n"
     ]
    }
   ],
   "source": [
    "output_path = \"../output/\"\n",
    "\n",
    "print(os.getpid())\n",
    "filepath=output_path + \"progress/seq2seq-attention-weights-best.hdf5\"\n",
    "MC = ModelCheckpoint(filepath, monitor='val_acc', verbose=0, save_best_only=True, mode='max')\n",
    "\n",
    "figPath = os.path.sep.join([output_path, \"monitor/{}.png\".format(os.getpid())])\n",
    "jsonPath = os.path.sep.join([output_path, \"monitor/{}.json\".format(os.getpid())])\n",
    "TM = TrainingMonitor(figPath, jsonPath=jsonPath, startAt=0)\n",
    "\n",
    "RLR = ReduceLROnPlateau(factor=np.sqrt(0.1), cooldown=0, patience=5, min_lr=0.5e-6)\n",
    "\n",
    "callbacks = [MC, TM, RLR]"
   ]
  },
  {
   "cell_type": "code",
   "execution_count": 19,
   "metadata": {
    "collapsed": false
   },
   "outputs": [
    {
     "name": "stdout",
     "output_type": "stream",
     "text": [
      "Train on 700 samples, validate on 150 samples\n",
      "Epoch 1/100\n",
      "700/700 [==============================] - 4s 6ms/step - loss: 2.1033 - acc: 0.2846 - val_loss: 1.8463 - val_acc: 0.3560\n",
      "Epoch 2/100\n",
      "700/700 [==============================] - 2s 2ms/step - loss: 1.7508 - acc: 0.3649 - val_loss: 1.6439 - val_acc: 0.3787\n",
      "Epoch 3/100\n",
      "700/700 [==============================] - 2s 2ms/step - loss: 1.4250 - acc: 0.4654 - val_loss: 1.2676 - val_acc: 0.4147\n",
      "Epoch 4/100\n",
      "700/700 [==============================] - 2s 2ms/step - loss: 1.2124 - acc: 0.4834 - val_loss: 1.2069 - val_acc: 0.4813\n",
      "Epoch 5/100\n",
      "700/700 [==============================] - 2s 2ms/step - loss: 1.1907 - acc: 0.4939 - val_loss: 1.1821 - val_acc: 0.4913\n",
      "Epoch 6/100\n",
      "700/700 [==============================] - 2s 2ms/step - loss: 1.1787 - acc: 0.4981 - val_loss: 1.1903 - val_acc: 0.4833\n",
      "Epoch 7/100\n",
      "700/700 [==============================] - 2s 2ms/step - loss: 1.1772 - acc: 0.4959 - val_loss: 1.1685 - val_acc: 0.4900\n",
      "Epoch 8/100\n",
      "700/700 [==============================] - 2s 2ms/step - loss: 1.1687 - acc: 0.4996 - val_loss: 1.1649 - val_acc: 0.4973\n",
      "Epoch 9/100\n",
      "700/700 [==============================] - 2s 2ms/step - loss: 1.1670 - acc: 0.4969 - val_loss: 1.1471 - val_acc: 0.5020\n",
      "Epoch 10/100\n",
      "700/700 [==============================] - 2s 2ms/step - loss: 1.1268 - acc: 0.5430 - val_loss: 1.1016 - val_acc: 0.5587\n",
      "Epoch 11/100\n",
      "700/700 [==============================] - 2s 2ms/step - loss: 1.0852 - acc: 0.5739 - val_loss: 1.0627 - val_acc: 0.5660\n",
      "Epoch 12/100\n",
      "700/700 [==============================] - 2s 2ms/step - loss: 1.0319 - acc: 0.5903 - val_loss: 1.0302 - val_acc: 0.5827\n",
      "Epoch 13/100\n",
      "700/700 [==============================] - 2s 2ms/step - loss: 1.0148 - acc: 0.5896 - val_loss: 1.0238 - val_acc: 0.5740\n",
      "Epoch 14/100\n",
      "700/700 [==============================] - 2s 2ms/step - loss: 1.0068 - acc: 0.5921 - val_loss: 1.0412 - val_acc: 0.5700\n",
      "Epoch 15/100\n",
      "700/700 [==============================] - 2s 2ms/step - loss: 0.9941 - acc: 0.5967 - val_loss: 0.9997 - val_acc: 0.5773\n",
      "Epoch 16/100\n",
      "700/700 [==============================] - 2s 2ms/step - loss: 0.9787 - acc: 0.6049 - val_loss: 1.0011 - val_acc: 0.5913\n",
      "Epoch 17/100\n",
      "700/700 [==============================] - 2s 2ms/step - loss: 0.9615 - acc: 0.6121 - val_loss: 0.9921 - val_acc: 0.5973\n",
      "Epoch 18/100\n",
      "700/700 [==============================] - 2s 2ms/step - loss: 0.9511 - acc: 0.6191 - val_loss: 0.9905 - val_acc: 0.5967\n",
      "Epoch 19/100\n",
      "700/700 [==============================] - 2s 2ms/step - loss: 0.9349 - acc: 0.6306 - val_loss: 0.9636 - val_acc: 0.6067\n",
      "Epoch 20/100\n",
      "700/700 [==============================] - 2s 2ms/step - loss: 0.9177 - acc: 0.6389 - val_loss: 0.9621 - val_acc: 0.6133\n",
      "Epoch 21/100\n",
      "700/700 [==============================] - 2s 2ms/step - loss: 0.8956 - acc: 0.6507 - val_loss: 0.9223 - val_acc: 0.6407\n",
      "Epoch 22/100\n",
      "700/700 [==============================] - 2s 2ms/step - loss: 0.8657 - acc: 0.6644 - val_loss: 0.9156 - val_acc: 0.6247\n",
      "Epoch 23/100\n",
      "700/700 [==============================] - 2s 2ms/step - loss: 0.8423 - acc: 0.6749 - val_loss: 0.9002 - val_acc: 0.6567\n",
      "Epoch 24/100\n",
      "700/700 [==============================] - 2s 2ms/step - loss: 0.8300 - acc: 0.6784 - val_loss: 0.8875 - val_acc: 0.6640\n",
      "Epoch 25/100\n",
      "700/700 [==============================] - 2s 2ms/step - loss: 0.8058 - acc: 0.6891 - val_loss: 0.8563 - val_acc: 0.6713\n",
      "Epoch 26/100\n",
      "700/700 [==============================] - 2s 2ms/step - loss: 0.7845 - acc: 0.6994 - val_loss: 0.8361 - val_acc: 0.6873\n",
      "Epoch 27/100\n",
      "700/700 [==============================] - 2s 2ms/step - loss: 0.7495 - acc: 0.7204 - val_loss: 0.8292 - val_acc: 0.6793\n",
      "Epoch 28/100\n",
      "700/700 [==============================] - 2s 2ms/step - loss: 0.7307 - acc: 0.7217 - val_loss: 0.8052 - val_acc: 0.6927\n",
      "Epoch 29/100\n",
      "700/700 [==============================] - 2s 2ms/step - loss: 0.7157 - acc: 0.7264 - val_loss: 0.7878 - val_acc: 0.7067\n",
      "Epoch 30/100\n",
      "700/700 [==============================] - 2s 2ms/step - loss: 0.6826 - acc: 0.7366 - val_loss: 0.7600 - val_acc: 0.7153\n",
      "Epoch 31/100\n",
      "700/700 [==============================] - 2s 3ms/step - loss: 0.6702 - acc: 0.7454 - val_loss: 0.7609 - val_acc: 0.7267\n",
      "Epoch 32/100\n",
      "700/700 [==============================] - 2s 2ms/step - loss: 0.6561 - acc: 0.7584 - val_loss: 0.7536 - val_acc: 0.7280\n",
      "Epoch 33/100\n",
      "700/700 [==============================] - 2s 2ms/step - loss: 0.6247 - acc: 0.7690 - val_loss: 0.7191 - val_acc: 0.7313\n",
      "Epoch 34/100\n",
      "700/700 [==============================] - 2s 2ms/step - loss: 0.6194 - acc: 0.7679 - val_loss: 0.6967 - val_acc: 0.7293\n",
      "Epoch 35/100\n",
      "700/700 [==============================] - 2s 2ms/step - loss: 0.5941 - acc: 0.7721 - val_loss: 0.6974 - val_acc: 0.7420\n",
      "Epoch 36/100\n",
      "700/700 [==============================] - 2s 2ms/step - loss: 0.5528 - acc: 0.7967 - val_loss: 0.6404 - val_acc: 0.7567\n",
      "Epoch 37/100\n",
      "700/700 [==============================] - 2s 2ms/step - loss: 0.5308 - acc: 0.8020 - val_loss: 0.6661 - val_acc: 0.7607\n",
      "Epoch 38/100\n",
      "700/700 [==============================] - 2s 3ms/step - loss: 0.5237 - acc: 0.8030 - val_loss: 0.6076 - val_acc: 0.7760\n",
      "Epoch 39/100\n",
      "700/700 [==============================] - 2s 2ms/step - loss: 0.4937 - acc: 0.8119 - val_loss: 0.6002 - val_acc: 0.7787\n",
      "Epoch 40/100\n",
      "700/700 [==============================] - 2s 2ms/step - loss: 0.4653 - acc: 0.8280 - val_loss: 0.5754 - val_acc: 0.7847\n",
      "Epoch 41/100\n",
      "700/700 [==============================] - 2s 2ms/step - loss: 0.4351 - acc: 0.8379 - val_loss: 0.5617 - val_acc: 0.7793\n",
      "Epoch 42/100\n",
      "700/700 [==============================] - 2s 2ms/step - loss: 0.4227 - acc: 0.8431 - val_loss: 0.5601 - val_acc: 0.7913\n",
      "Epoch 43/100\n",
      "700/700 [==============================] - 2s 2ms/step - loss: 0.4012 - acc: 0.8507 - val_loss: 0.5355 - val_acc: 0.8047\n",
      "Epoch 44/100\n",
      "700/700 [==============================] - 2s 3ms/step - loss: 0.3777 - acc: 0.8604 - val_loss: 0.5486 - val_acc: 0.7900\n",
      "Epoch 45/100\n",
      "700/700 [==============================] - 2s 2ms/step - loss: 0.3761 - acc: 0.8633 - val_loss: 0.5253 - val_acc: 0.7987\n",
      "Epoch 46/100\n",
      "700/700 [==============================] - 2s 2ms/step - loss: 0.3645 - acc: 0.8676 - val_loss: 0.5200 - val_acc: 0.8007\n",
      "Epoch 47/100\n",
      "700/700 [==============================] - 2s 2ms/step - loss: 0.3386 - acc: 0.8786 - val_loss: 0.4996 - val_acc: 0.8120\n",
      "Epoch 48/100\n",
      "700/700 [==============================] - 2s 2ms/step - loss: 0.3082 - acc: 0.8889 - val_loss: 0.4892 - val_acc: 0.8160\n",
      "Epoch 49/100\n",
      "700/700 [==============================] - 2s 3ms/step - loss: 0.2874 - acc: 0.8994 - val_loss: 0.4679 - val_acc: 0.8307\n",
      "Epoch 50/100\n",
      "700/700 [==============================] - 2s 2ms/step - loss: 0.2687 - acc: 0.9087 - val_loss: 0.4629 - val_acc: 0.8280\n",
      "Epoch 51/100\n",
      "700/700 [==============================] - 2s 2ms/step - loss: 0.2543 - acc: 0.9120 - val_loss: 0.4510 - val_acc: 0.8293\n",
      "Epoch 52/100\n",
      "700/700 [==============================] - 2s 2ms/step - loss: 0.2277 - acc: 0.9249 - val_loss: 0.4565 - val_acc: 0.8373\n",
      "Epoch 53/100\n",
      "700/700 [==============================] - 2s 2ms/step - loss: 0.2116 - acc: 0.9327 - val_loss: 0.4584 - val_acc: 0.8407\n",
      "Epoch 54/100\n",
      "700/700 [==============================] - 2s 2ms/step - loss: 0.2021 - acc: 0.9380 - val_loss: 0.4530 - val_acc: 0.8400\n",
      "Epoch 55/100\n",
      "700/700 [==============================] - 2s 2ms/step - loss: 0.1980 - acc: 0.9391 - val_loss: 0.4828 - val_acc: 0.8440\n",
      "Epoch 56/100\n",
      "700/700 [==============================] - 2s 2ms/step - loss: 0.1802 - acc: 0.9460 - val_loss: 0.4614 - val_acc: 0.8393\n",
      "Epoch 57/100\n",
      "700/700 [==============================] - 2s 2ms/step - loss: 0.1686 - acc: 0.9504 - val_loss: 0.4481 - val_acc: 0.8473\n",
      "Epoch 58/100\n",
      "700/700 [==============================] - 2s 2ms/step - loss: 0.1637 - acc: 0.9529 - val_loss: 0.5057 - val_acc: 0.8233\n",
      "Epoch 59/100\n",
      "700/700 [==============================] - 2s 2ms/step - loss: 0.1648 - acc: 0.9494 - val_loss: 0.4691 - val_acc: 0.8420\n",
      "Epoch 60/100\n",
      "700/700 [==============================] - 2s 2ms/step - loss: 0.1513 - acc: 0.9534 - val_loss: 0.4378 - val_acc: 0.8507\n",
      "Epoch 61/100\n",
      "700/700 [==============================] - 2s 2ms/step - loss: 0.1352 - acc: 0.9623 - val_loss: 0.4706 - val_acc: 0.8413\n",
      "Epoch 62/100\n",
      "700/700 [==============================] - 2s 2ms/step - loss: 0.1343 - acc: 0.9623 - val_loss: 0.4579 - val_acc: 0.8373\n",
      "Epoch 63/100\n",
      "700/700 [==============================] - 2s 2ms/step - loss: 0.1552 - acc: 0.9539 - val_loss: 0.5876 - val_acc: 0.8133\n",
      "Epoch 64/100\n",
      "700/700 [==============================] - 2s 2ms/step - loss: 0.2055 - acc: 0.9301 - val_loss: 0.4939 - val_acc: 0.8353\n",
      "Epoch 65/100\n",
      "700/700 [==============================] - 2s 2ms/step - loss: 0.1458 - acc: 0.9546 - val_loss: 0.4513 - val_acc: 0.8420\n",
      "Epoch 66/100\n",
      "700/700 [==============================] - 2s 2ms/step - loss: 0.1137 - acc: 0.9701 - val_loss: 0.4675 - val_acc: 0.8500\n",
      "Epoch 67/100\n",
      "700/700 [==============================] - 2s 2ms/step - loss: 0.0876 - acc: 0.9816 - val_loss: 0.4463 - val_acc: 0.8567\n",
      "Epoch 68/100\n",
      "700/700 [==============================] - 2s 2ms/step - loss: 0.0746 - acc: 0.9870 - val_loss: 0.4306 - val_acc: 0.8593\n",
      "Epoch 69/100\n",
      "700/700 [==============================] - 2s 2ms/step - loss: 0.0695 - acc: 0.9891 - val_loss: 0.4333 - val_acc: 0.8560\n",
      "Epoch 70/100\n",
      "700/700 [==============================] - 2s 2ms/step - loss: 0.0664 - acc: 0.9903 - val_loss: 0.4294 - val_acc: 0.8613\n",
      "Epoch 71/100\n",
      "700/700 [==============================] - 2s 2ms/step - loss: 0.0638 - acc: 0.9910 - val_loss: 0.4338 - val_acc: 0.8607\n",
      "Epoch 72/100\n",
      "700/700 [==============================] - 2s 2ms/step - loss: 0.0615 - acc: 0.9913 - val_loss: 0.4335 - val_acc: 0.8647\n",
      "Epoch 73/100\n",
      "700/700 [==============================] - 2s 2ms/step - loss: 0.0593 - acc: 0.9920 - val_loss: 0.4331 - val_acc: 0.8600\n",
      "Epoch 74/100\n",
      "700/700 [==============================] - 2s 2ms/step - loss: 0.0574 - acc: 0.9920 - val_loss: 0.4375 - val_acc: 0.8620\n",
      "Epoch 75/100\n",
      "700/700 [==============================] - 2s 2ms/step - loss: 0.0557 - acc: 0.9923 - val_loss: 0.4352 - val_acc: 0.8620\n",
      "Epoch 76/100\n",
      "700/700 [==============================] - 2s 2ms/step - loss: 0.0542 - acc: 0.9927 - val_loss: 0.4377 - val_acc: 0.8613\n",
      "Epoch 77/100\n",
      "700/700 [==============================] - 2s 2ms/step - loss: 0.0519 - acc: 0.9933 - val_loss: 0.4381 - val_acc: 0.8600\n",
      "Epoch 78/100\n",
      "700/700 [==============================] - 2s 2ms/step - loss: 0.0512 - acc: 0.9937 - val_loss: 0.4381 - val_acc: 0.8607\n",
      "Epoch 79/100\n",
      "700/700 [==============================] - 2s 3ms/step - loss: 0.0508 - acc: 0.9937 - val_loss: 0.4392 - val_acc: 0.8607\n",
      "Epoch 80/100\n",
      "700/700 [==============================] - 2s 2ms/step - loss: 0.0502 - acc: 0.9934 - val_loss: 0.4390 - val_acc: 0.8613\n",
      "Epoch 81/100\n",
      "700/700 [==============================] - 2s 2ms/step - loss: 0.0498 - acc: 0.9936 - val_loss: 0.4402 - val_acc: 0.8607\n",
      "Epoch 82/100\n",
      "700/700 [==============================] - 2s 2ms/step - loss: 0.0491 - acc: 0.9936 - val_loss: 0.4401 - val_acc: 0.8600\n",
      "Epoch 83/100\n",
      "700/700 [==============================] - 2s 2ms/step - loss: 0.0489 - acc: 0.9937 - val_loss: 0.4403 - val_acc: 0.8607\n",
      "Epoch 84/100\n",
      "700/700 [==============================] - 2s 2ms/step - loss: 0.0488 - acc: 0.9939 - val_loss: 0.4406 - val_acc: 0.8607\n",
      "Epoch 85/100\n",
      "700/700 [==============================] - 2s 2ms/step - loss: 0.0486 - acc: 0.9937 - val_loss: 0.4403 - val_acc: 0.8607\n",
      "Epoch 86/100\n",
      "700/700 [==============================] - 2s 2ms/step - loss: 0.0485 - acc: 0.9939 - val_loss: 0.4408 - val_acc: 0.8613\n",
      "Epoch 87/100\n",
      "700/700 [==============================] - 2s 2ms/step - loss: 0.0482 - acc: 0.9940 - val_loss: 0.4408 - val_acc: 0.8613\n",
      "Epoch 88/100\n",
      "700/700 [==============================] - 2s 2ms/step - loss: 0.0482 - acc: 0.9940 - val_loss: 0.4409 - val_acc: 0.8607\n",
      "Epoch 89/100\n",
      "700/700 [==============================] - 2s 2ms/step - loss: 0.0481 - acc: 0.9940 - val_loss: 0.4409 - val_acc: 0.8607\n",
      "Epoch 90/100\n",
      "700/700 [==============================] - 2s 2ms/step - loss: 0.0481 - acc: 0.9940 - val_loss: 0.4409 - val_acc: 0.8607\n",
      "Epoch 91/100\n",
      "700/700 [==============================] - 2s 2ms/step - loss: 0.0480 - acc: 0.9941 - val_loss: 0.4411 - val_acc: 0.8613\n",
      "Epoch 92/100\n",
      "700/700 [==============================] - 2s 2ms/step - loss: 0.0480 - acc: 0.9943 - val_loss: 0.4411 - val_acc: 0.8613\n",
      "Epoch 93/100\n",
      "700/700 [==============================] - 2s 2ms/step - loss: 0.0479 - acc: 0.9943 - val_loss: 0.4411 - val_acc: 0.8607\n",
      "Epoch 94/100\n",
      "700/700 [==============================] - 2s 2ms/step - loss: 0.0479 - acc: 0.9943 - val_loss: 0.4411 - val_acc: 0.8613\n",
      "Epoch 95/100\n",
      "700/700 [==============================] - 2s 2ms/step - loss: 0.0479 - acc: 0.9941 - val_loss: 0.4412 - val_acc: 0.8607\n",
      "Epoch 96/100\n",
      "700/700 [==============================] - 2s 2ms/step - loss: 0.0479 - acc: 0.9943 - val_loss: 0.4411 - val_acc: 0.8613\n",
      "Epoch 97/100\n",
      "700/700 [==============================] - 2s 2ms/step - loss: 0.0479 - acc: 0.9943 - val_loss: 0.4412 - val_acc: 0.8607\n",
      "Epoch 98/100\n",
      "700/700 [==============================] - 2s 2ms/step - loss: 0.0479 - acc: 0.9943 - val_loss: 0.4412 - val_acc: 0.8613\n",
      "Epoch 99/100\n",
      "700/700 [==============================] - 2s 2ms/step - loss: 0.0479 - acc: 0.9943 - val_loss: 0.4412 - val_acc: 0.8607\n",
      "Epoch 100/100\n",
      "700/700 [==============================] - 2s 2ms/step - loss: 0.0478 - acc: 0.9943 - val_loss: 0.4412 - val_acc: 0.8607\n"
     ]
    }
   ],
   "source": [
    "history = model.fit(x_train, y_train,\n",
    "            batch_size=32,\n",
    "            epochs=100,\n",
    "            validation_data=(x_val, y_val),\n",
    "            shuffle=\"batch\",\n",
    "            callbacks=callbacks)"
   ]
  },
  {
   "cell_type": "code",
   "execution_count": 20,
   "metadata": {
    "collapsed": false
   },
   "outputs": [
    {
     "name": "stdout",
     "output_type": "stream",
     "text": [
      "Train: 99.43%; Val: 86.47%; Test: 85.93%\n"
     ]
    }
   ],
   "source": [
    "scores = model.evaluate(x_test, y_test, verbose=0)\n",
    "print(\"Train: %.2f%%; Val: %.2f%%; Test: %.2f%%\" % \n",
    "      (np.max(history.history['acc'])*100, np.max(history.history['val_acc'])*100, scores[1]*100)\n",
    "     )"
   ]
  },
  {
   "cell_type": "code",
   "execution_count": 18,
   "metadata": {
    "collapsed": true
   },
   "outputs": [],
   "source": [
    "model_json = model.to_json()\n",
    "with open(\"../output/saved/date_model_seq2seq_94.33.json\", \"w\") as json_file:\n",
    "    json_file.write(model_json)\n",
    "model.save_weights(\"../output/saved/date_weight_seq2seq_94.33.hdf5\")"
   ]
  }
 ],
 "metadata": {
  "anaconda-cloud": {},
  "kernelspec": {
   "display_name": "Python [default]",
   "language": "python",
   "name": "python3"
  },
  "language_info": {
   "codemirror_mode": {
    "name": "ipython",
    "version": 3
   },
   "file_extension": ".py",
   "mimetype": "text/x-python",
   "name": "python",
   "nbconvert_exporter": "python",
   "pygments_lexer": "ipython3",
   "version": "3.5.2"
  }
 },
 "nbformat": 4,
 "nbformat_minor": 1
}
