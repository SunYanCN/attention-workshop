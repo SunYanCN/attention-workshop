{
 "cells": [
  {
   "cell_type": "code",
   "execution_count": 2,
   "metadata": {
    "collapsed": false
   },
   "outputs": [
    {
     "name": "stderr",
     "output_type": "stream",
     "text": [
      "Using TensorFlow backend.\n"
     ]
    }
   ],
   "source": [
    "from keras.models import Sequential, model_from_json\n",
    "from keras.callbacks import ModelCheckpoint, EarlyStopping, ReduceLROnPlateau\n",
    "from keras.constraints import maxnorm\n",
    "from keras import regularizers\n",
    "from keras.layers.normalization import BatchNormalization\n",
    "from keras.layers import Dense, Dropout, Activation, Flatten, Input\n",
    "from keras.layers import Conv2D, MaxPooling2D, GlobalAveragePooling2D, SeparableConv2D\n",
    "from keras.layers import Bidirectional, RepeatVector, TimeDistributed, Permute, Embedding\n",
    "from keras.layers import concatenate, add, Lambda, multiply\n",
    "from keras.layers import LSTM\n",
    "from keras.models import Model\n",
    "from keras.regularizers import l2\n",
    "from keras.preprocessing.sequence import pad_sequences\n",
    "\n",
    "from keras.applications import imagenet_utils, Xception\n",
    "from keras.preprocessing.image import img_to_array\n",
    "import keras.backend as K\n",
    "\n",
    "import numpy as np \n",
    "import json\n",
    "import os\n",
    "import cv2\n",
    "import h5py\n",
    "import pickle\n",
    "\n",
    "import matplotlib.pyplot as plt\n",
    "%matplotlib inline"
   ]
  },
  {
   "cell_type": "code",
   "execution_count": 3,
   "metadata": {
    "collapsed": true
   },
   "outputs": [],
   "source": [
    "import tensorflow as tf\n",
    "config = tf.ConfigProto()\n",
    "config.gpu_options.allow_growth = True\n",
    "session = tf.Session(config=config)"
   ]
  },
  {
   "cell_type": "code",
   "execution_count": 4,
   "metadata": {
    "collapsed": true
   },
   "outputs": [],
   "source": [
    "from helpers import TrainingMonitor\n",
    "from helpers import Utils"
   ]
  },
  {
   "cell_type": "code",
   "execution_count": 5,
   "metadata": {
    "collapsed": false
   },
   "outputs": [],
   "source": [
    "X_file = open('../input/dataset/X.pickle', 'rb')\n",
    "x = pickle.load(X_file)\n",
    "X_file.close()"
   ]
  },
  {
   "cell_type": "code",
   "execution_count": 6,
   "metadata": {
    "collapsed": true
   },
   "outputs": [],
   "source": [
    "Y_file = open('../input/dataset/Y.pickle', 'rb')\n",
    "y = pickle.load(Y_file)\n",
    "Y_file.close()"
   ]
  },
  {
   "cell_type": "code",
   "execution_count": 7,
   "metadata": {
    "collapsed": false
   },
   "outputs": [],
   "source": [
    "y = np.array(y)"
   ]
  },
  {
   "cell_type": "code",
   "execution_count": 8,
   "metadata": {
    "collapsed": false
   },
   "outputs": [],
   "source": [
    "y_input = np.zeros([1000, 10])\n",
    "y_input[:, 1:] = y[:,:-1]\n",
    "y_input[:, 0] = -1"
   ]
  },
  {
   "cell_type": "code",
   "execution_count": 9,
   "metadata": {
    "collapsed": false
   },
   "outputs": [
    {
     "data": {
      "text/plain": [
       "array([ -1.,   2.,  10.,  10.,   9.,   0.,   1.,   6.,   0.,   1.])"
      ]
     },
     "execution_count": 9,
     "metadata": {},
     "output_type": "execute_result"
    }
   ],
   "source": [
    "y_input[0]"
   ]
  },
  {
   "cell_type": "code",
   "execution_count": 10,
   "metadata": {
    "collapsed": true
   },
   "outputs": [],
   "source": [
    "Yoh_file = open('../input/dataset/Yoh.pickle', 'rb')\n",
    "yoh = pickle.load(Yoh_file)\n",
    "Yoh_file.close()"
   ]
  },
  {
   "cell_type": "code",
   "execution_count": 11,
   "metadata": {
    "collapsed": false
   },
   "outputs": [],
   "source": [
    "train_split, val_split = 0.7, 0.15\n",
    "\n",
    "train_len = int(train_split * x.shape[0])\n",
    "train_val_len = int((train_split + val_split) * x.shape[0])\n",
    "\n",
    "x_train = x[:train_len]\n",
    "x_val = x[train_len:train_val_len]\n",
    "x_test = x[train_val_len:]\n",
    "\n",
    "y_input_train = y_input[:train_len]\n",
    "y_input_val = y_input[train_len:train_val_len]\n",
    "y_input_test = y_input[train_val_len:]\n",
    "\n",
    "yoh_train = yoh[:train_len]\n",
    "yoh_val = yoh[train_len:train_val_len]\n",
    "yoh_test = yoh[train_val_len:]"
   ]
  },
  {
   "cell_type": "code",
   "execution_count": 12,
   "metadata": {
    "collapsed": false
   },
   "outputs": [
    {
     "data": {
      "text/plain": [
       "(700, 30)"
      ]
     },
     "execution_count": 12,
     "metadata": {},
     "output_type": "execute_result"
    }
   ],
   "source": [
    "x_train.shape"
   ]
  },
  {
   "cell_type": "code",
   "execution_count": 13,
   "metadata": {
    "collapsed": false
   },
   "outputs": [
    {
     "data": {
      "text/plain": [
       "(700, 10)"
      ]
     },
     "execution_count": 13,
     "metadata": {},
     "output_type": "execute_result"
    }
   ],
   "source": [
    "y_input_train.shape"
   ]
  },
  {
   "cell_type": "code",
   "execution_count": 14,
   "metadata": {
    "collapsed": false
   },
   "outputs": [
    {
     "data": {
      "text/plain": [
       "(700, 10, 11)"
      ]
     },
     "execution_count": 14,
     "metadata": {},
     "output_type": "execute_result"
    }
   ],
   "source": [
    "yoh_train.shape"
   ]
  },
  {
   "cell_type": "code",
   "execution_count": 15,
   "metadata": {
    "collapsed": true
   },
   "outputs": [],
   "source": [
    "INPUT_LENGTH = 30\n",
    "OUTPUT_LENGTH = 10\n",
    "input_dict_size = 37\n",
    "output_dict_size = 11"
   ]
  },
  {
   "cell_type": "code",
   "execution_count": 16,
   "metadata": {
    "collapsed": true
   },
   "outputs": [],
   "source": [
    "encoder_input = Input(shape=(INPUT_LENGTH,))\n",
    "decoder_input = Input(shape=(OUTPUT_LENGTH,))"
   ]
  },
  {
   "cell_type": "code",
   "execution_count": 17,
   "metadata": {
    "collapsed": false
   },
   "outputs": [
    {
     "name": "stdout",
     "output_type": "stream",
     "text": [
      "encoder Tensor(\"bidirectional_1/concat:0\", shape=(?, 30, 128), dtype=float32)\n",
      "encoder_last Tensor(\"strided_slice:0\", shape=(?, 128), dtype=float32)\n",
      "decoder Tensor(\"lstm_2/transpose_2:0\", shape=(?, 10, 128), dtype=float32)\n"
     ]
    }
   ],
   "source": [
    "encoder = Embedding(input_dict_size, 64, input_length=INPUT_LENGTH, mask_zero=True)(encoder_input)\n",
    "encoder = Bidirectional(LSTM(64, return_sequences=True, unroll=True))(encoder)\n",
    "encoder_last = encoder[:,-1,:]\n",
    "\n",
    "print('encoder', encoder)\n",
    "print('encoder_last', encoder_last)\n",
    "\n",
    "decoder = Embedding(output_dict_size, 64, input_length=OUTPUT_LENGTH, mask_zero=True)(decoder_input)\n",
    "decoder = LSTM(128, return_sequences=True, unroll=True)(decoder, initial_state=[encoder_last, encoder_last])\n",
    "\n",
    "print('decoder', decoder)"
   ]
  },
  {
   "cell_type": "code",
   "execution_count": 18,
   "metadata": {
    "collapsed": true
   },
   "outputs": [],
   "source": [
    "from keras.layers import Activation, dot, concatenate"
   ]
  },
  {
   "cell_type": "code",
   "execution_count": 19,
   "metadata": {
    "collapsed": false
   },
   "outputs": [
    {
     "name": "stdout",
     "output_type": "stream",
     "text": [
      "attention Tensor(\"attention/truediv:0\", shape=(?, 10, 30), dtype=float32)\n",
      "context Tensor(\"dot_2/MatMul:0\", shape=(?, 10, 128), dtype=float32)\n",
      "decoder_combined_context Tensor(\"concatenate_1/concat:0\", shape=(?, 10, 256), dtype=float32)\n"
     ]
    }
   ],
   "source": [
    "attention = dot([decoder, encoder], axes=[2, 2])\n",
    "attention = Activation('softmax', name='attention')(attention)\n",
    "print('attention', attention)\n",
    "\n",
    "context = dot([attention, encoder], axes=[2,1])\n",
    "print('context', context)\n",
    "\n",
    "decoder_combined_context = concatenate([context, decoder])\n",
    "print('decoder_combined_context', decoder_combined_context)"
   ]
  },
  {
   "cell_type": "code",
   "execution_count": 20,
   "metadata": {
    "collapsed": false
   },
   "outputs": [],
   "source": [
    "output = TimeDistributed(Dense(64, activation=\"tanh\"))(decoder_combined_context)\n",
    "output = TimeDistributed(Dense(11, activation=\"softmax\"))(output)"
   ]
  },
  {
   "cell_type": "code",
   "execution_count": 21,
   "metadata": {
    "collapsed": false
   },
   "outputs": [
    {
     "name": "stdout",
     "output_type": "stream",
     "text": [
      "__________________________________________________________________________________________________\n",
      "Layer (type)                    Output Shape         Param #     Connected to                     \n",
      "==================================================================================================\n",
      "input_2 (InputLayer)            (None, 10)           0                                            \n",
      "__________________________________________________________________________________________________\n",
      "input_1 (InputLayer)            (None, 30)           0                                            \n",
      "__________________________________________________________________________________________________\n",
      "embedding_2 (Embedding)         (None, 10, 64)       704         input_2[0][0]                    \n",
      "__________________________________________________________________________________________________\n",
      "embedding_1 (Embedding)         (None, 30, 64)       2368        input_1[0][0]                    \n",
      "__________________________________________________________________________________________________\n",
      "lstm_2 (LSTM)                   (None, 10, 128)      98816       embedding_2[0][0]                \n",
      "__________________________________________________________________________________________________\n",
      "bidirectional_1 (Bidirectional) (None, 30, 128)      66048       embedding_1[0][0]                \n",
      "__________________________________________________________________________________________________\n",
      "dot_1 (Dot)                     (None, 10, 30)       0           lstm_2[0][0]                     \n",
      "                                                                 bidirectional_1[0][0]            \n",
      "__________________________________________________________________________________________________\n",
      "attention (Activation)          (None, 10, 30)       0           dot_1[0][0]                      \n",
      "__________________________________________________________________________________________________\n",
      "dot_2 (Dot)                     (None, 10, 128)      0           attention[0][0]                  \n",
      "                                                                 bidirectional_1[0][0]            \n",
      "__________________________________________________________________________________________________\n",
      "concatenate_1 (Concatenate)     (None, 10, 256)      0           dot_2[0][0]                      \n",
      "                                                                 lstm_2[0][0]                     \n",
      "__________________________________________________________________________________________________\n",
      "time_distributed_1 (TimeDistrib (None, 10, 64)       16448       concatenate_1[0][0]              \n",
      "__________________________________________________________________________________________________\n",
      "time_distributed_2 (TimeDistrib (None, 10, 11)       715         time_distributed_1[0][0]         \n",
      "==================================================================================================\n",
      "Total params: 185,099\n",
      "Trainable params: 185,099\n",
      "Non-trainable params: 0\n",
      "__________________________________________________________________________________________________\n"
     ]
    }
   ],
   "source": [
    "model = Model(inputs=[encoder_input, decoder_input], outputs=[output])\n",
    "model.compile(optimizer='adam', loss='binary_crossentropy', metrics=[\"accuracy\"])\n",
    "model.summary()"
   ]
  },
  {
   "cell_type": "code",
   "execution_count": 22,
   "metadata": {
    "collapsed": false
   },
   "outputs": [
    {
     "name": "stdout",
     "output_type": "stream",
     "text": [
      "Train on 700 samples, validate on 150 samples\n",
      "Epoch 1/50\n",
      "700/700 [==============================] - 14s 20ms/step - loss: 0.2897 - acc: 0.9084 - val_loss: 0.2750 - val_acc: 0.9091\n",
      "Epoch 2/50\n",
      "700/700 [==============================] - 2s 3ms/step - loss: 0.2623 - acc: 0.9090 - val_loss: 0.2420 - val_acc: 0.9168\n",
      "Epoch 3/50\n",
      "700/700 [==============================] - 2s 3ms/step - loss: 0.2298 - acc: 0.9192 - val_loss: 0.2132 - val_acc: 0.9273\n",
      "Epoch 4/50\n",
      "700/700 [==============================] - 2s 3ms/step - loss: 0.2009 - acc: 0.9343 - val_loss: 0.1887 - val_acc: 0.9388\n",
      "Epoch 5/50\n",
      "700/700 [==============================] - 2s 3ms/step - loss: 0.1720 - acc: 0.9420 - val_loss: 0.1579 - val_acc: 0.9448\n",
      "Epoch 6/50\n",
      "700/700 [==============================] - 2s 3ms/step - loss: 0.1487 - acc: 0.9467 - val_loss: 0.1421 - val_acc: 0.9476\n",
      "Epoch 7/50\n",
      "700/700 [==============================] - 2s 3ms/step - loss: 0.1394 - acc: 0.9486 - val_loss: 0.1354 - val_acc: 0.9486\n",
      "Epoch 8/50\n",
      "700/700 [==============================] - 2s 3ms/step - loss: 0.1307 - acc: 0.9527 - val_loss: 0.1279 - val_acc: 0.9550\n",
      "Epoch 9/50\n",
      "700/700 [==============================] - 2s 3ms/step - loss: 0.1243 - acc: 0.9552 - val_loss: 0.1192 - val_acc: 0.9570\n",
      "Epoch 10/50\n",
      "700/700 [==============================] - 2s 3ms/step - loss: 0.1175 - acc: 0.9573 - val_loss: 0.1118 - val_acc: 0.9601\n",
      "Epoch 11/50\n",
      "700/700 [==============================] - 2s 3ms/step - loss: 0.1088 - acc: 0.9600 - val_loss: 0.1037 - val_acc: 0.9619\n",
      "Epoch 12/50\n",
      "700/700 [==============================] - 2s 3ms/step - loss: 0.1005 - acc: 0.9621 - val_loss: 0.0976 - val_acc: 0.9623\n",
      "Epoch 13/50\n",
      "700/700 [==============================] - 2s 3ms/step - loss: 0.0936 - acc: 0.9641 - val_loss: 0.0896 - val_acc: 0.9642\n",
      "Epoch 14/50\n",
      "700/700 [==============================] - 2s 3ms/step - loss: 0.0849 - acc: 0.9660 - val_loss: 0.0822 - val_acc: 0.9675\n",
      "Epoch 15/50\n",
      "700/700 [==============================] - 2s 3ms/step - loss: 0.0763 - acc: 0.9691 - val_loss: 0.0755 - val_acc: 0.9702\n",
      "Epoch 16/50\n",
      "700/700 [==============================] - 2s 3ms/step - loss: 0.0679 - acc: 0.9725 - val_loss: 0.0681 - val_acc: 0.9730\n",
      "Epoch 17/50\n",
      "700/700 [==============================] - 2s 3ms/step - loss: 0.0596 - acc: 0.9769 - val_loss: 0.0605 - val_acc: 0.9783\n",
      "Epoch 18/50\n",
      "700/700 [==============================] - 2s 3ms/step - loss: 0.0508 - acc: 0.9817 - val_loss: 0.0509 - val_acc: 0.9819\n",
      "Epoch 19/50\n",
      "700/700 [==============================] - 2s 3ms/step - loss: 0.0406 - acc: 0.9876 - val_loss: 0.0422 - val_acc: 0.9860\n",
      "Epoch 20/50\n",
      "700/700 [==============================] - 2s 3ms/step - loss: 0.0325 - acc: 0.9901 - val_loss: 0.0328 - val_acc: 0.9904\n",
      "Epoch 21/50\n",
      "700/700 [==============================] - 2s 3ms/step - loss: 0.0238 - acc: 0.9932 - val_loss: 0.0247 - val_acc: 0.9927\n",
      "Epoch 22/50\n",
      "700/700 [==============================] - 2s 3ms/step - loss: 0.0181 - acc: 0.9948 - val_loss: 0.0193 - val_acc: 0.9943\n",
      "Epoch 23/50\n",
      "700/700 [==============================] - 2s 3ms/step - loss: 0.0145 - acc: 0.9956 - val_loss: 0.0161 - val_acc: 0.9956\n",
      "Epoch 24/50\n",
      "700/700 [==============================] - 2s 3ms/step - loss: 0.0115 - acc: 0.9974 - val_loss: 0.0141 - val_acc: 0.9958\n",
      "Epoch 25/50\n",
      "700/700 [==============================] - 2s 3ms/step - loss: 0.0085 - acc: 0.9981 - val_loss: 0.0124 - val_acc: 0.9967\n",
      "Epoch 26/50\n",
      "700/700 [==============================] - 2s 3ms/step - loss: 0.0066 - acc: 0.9987 - val_loss: 0.0109 - val_acc: 0.9966\n",
      "Epoch 27/50\n",
      "700/700 [==============================] - 2s 3ms/step - loss: 0.0053 - acc: 0.9992 - val_loss: 0.0098 - val_acc: 0.9976\n",
      "Epoch 28/50\n",
      "700/700 [==============================] - 2s 3ms/step - loss: 0.0044 - acc: 0.9993 - val_loss: 0.0097 - val_acc: 0.9977\n",
      "Epoch 29/50\n",
      "700/700 [==============================] - 2s 3ms/step - loss: 0.0042 - acc: 0.9994 - val_loss: 0.0094 - val_acc: 0.9975\n",
      "Epoch 30/50\n",
      "700/700 [==============================] - 2s 3ms/step - loss: 0.0032 - acc: 0.9996 - val_loss: 0.0091 - val_acc: 0.9983\n",
      "Epoch 31/50\n",
      "700/700 [==============================] - 2s 3ms/step - loss: 0.0026 - acc: 0.9998 - val_loss: 0.0091 - val_acc: 0.9982\n",
      "Epoch 32/50\n",
      "700/700 [==============================] - 2s 4ms/step - loss: 0.0024 - acc: 0.9997 - val_loss: 0.0087 - val_acc: 0.9981\n",
      "Epoch 33/50\n",
      "700/700 [==============================] - 2s 3ms/step - loss: 0.0023 - acc: 0.9997 - val_loss: 0.0077 - val_acc: 0.9978\n",
      "Epoch 34/50\n",
      "700/700 [==============================] - 2s 3ms/step - loss: 0.0021 - acc: 0.9997 - val_loss: 0.0067 - val_acc: 0.9984\n",
      "Epoch 35/50\n",
      "700/700 [==============================] - 2s 3ms/step - loss: 0.0018 - acc: 0.9998 - val_loss: 0.0071 - val_acc: 0.9983\n",
      "Epoch 36/50\n",
      "700/700 [==============================] - 2s 3ms/step - loss: 0.0015 - acc: 0.9999 - val_loss: 0.0079 - val_acc: 0.9981\n",
      "Epoch 37/50\n",
      "700/700 [==============================] - 2s 3ms/step - loss: 0.0015 - acc: 0.9997 - val_loss: 0.0078 - val_acc: 0.9983\n",
      "Epoch 38/50\n",
      "700/700 [==============================] - 2s 3ms/step - loss: 0.0014 - acc: 0.9998 - val_loss: 0.0084 - val_acc: 0.9980\n",
      "Epoch 39/50\n",
      "700/700 [==============================] - 2s 3ms/step - loss: 0.0012 - acc: 0.9998 - val_loss: 0.0088 - val_acc: 0.9982\n",
      "Epoch 40/50\n",
      "700/700 [==============================] - 2s 3ms/step - loss: 0.0011 - acc: 0.9999 - val_loss: 0.0081 - val_acc: 0.9983\n",
      "Epoch 41/50\n",
      "700/700 [==============================] - 2s 3ms/step - loss: 0.0010 - acc: 0.9999 - val_loss: 0.0086 - val_acc: 0.9982\n",
      "Epoch 42/50\n",
      "700/700 [==============================] - 2s 3ms/step - loss: 0.0015 - acc: 0.9997 - val_loss: 0.0068 - val_acc: 0.9982\n",
      "Epoch 43/50\n",
      "700/700 [==============================] - 2s 3ms/step - loss: 0.0019 - acc: 0.9996 - val_loss: 0.0060 - val_acc: 0.9982\n",
      "Epoch 44/50\n",
      "700/700 [==============================] - 2s 3ms/step - loss: 0.0017 - acc: 0.9997 - val_loss: 0.0074 - val_acc: 0.9978\n",
      "Epoch 45/50\n",
      "700/700 [==============================] - 2s 3ms/step - loss: 0.0013 - acc: 0.9997 - val_loss: 0.0069 - val_acc: 0.9981\n",
      "Epoch 46/50\n",
      "700/700 [==============================] - 2s 3ms/step - loss: 9.7908e-04 - acc: 0.9998 - val_loss: 0.0071 - val_acc: 0.9982\n",
      "Epoch 47/50\n",
      "700/700 [==============================] - 2s 3ms/step - loss: 7.0952e-04 - acc: 0.9999 - val_loss: 0.0080 - val_acc: 0.9983\n",
      "Epoch 48/50\n",
      "700/700 [==============================] - 2s 3ms/step - loss: 7.1856e-04 - acc: 0.9999 - val_loss: 0.0075 - val_acc: 0.9984\n",
      "Epoch 49/50\n",
      "700/700 [==============================] - 2s 3ms/step - loss: 5.8292e-04 - acc: 1.0000 - val_loss: 0.0077 - val_acc: 0.9982\n",
      "Epoch 50/50\n",
      "700/700 [==============================] - 2s 3ms/step - loss: 8.2428e-04 - acc: 0.9998 - val_loss: 0.0065 - val_acc: 0.9983\n"
     ]
    }
   ],
   "source": [
    "history = model.fit(x=[x_train, y_input_train], y=[yoh_train],\n",
    "            validation_data=([x_val, y_input_val], [yoh_val]),\n",
    "            verbose=1,\n",
    "            batch_size=32,\n",
    "            epochs=50,\n",
    "            shuffle=\"batch\")"
   ]
  },
  {
   "cell_type": "code",
   "execution_count": 24,
   "metadata": {
    "collapsed": false
   },
   "outputs": [
    {
     "name": "stdout",
     "output_type": "stream",
     "text": [
      "Train: 100.00%; Val: 99.84%; Test: 99.88%\n"
     ]
    }
   ],
   "source": [
    "scores = model.evaluate([x_test, y_input_test], yoh_test, verbose=0)\n",
    "print(\"Train: %.2f%%; Val: %.2f%%; Test: %.2f%%\" % \n",
    "      (np.max(history.history['acc'])*100, np.max(history.history['val_acc'])*100, scores[1]*100)\n",
    "     )"
   ]
  },
  {
   "cell_type": "code",
   "execution_count": 25,
   "metadata": {
    "collapsed": false
   },
   "outputs": [],
   "source": [
    "attention_layer = model.get_layer(\"attention\")\n",
    "attention_model = Model(inputs=model.inputs, outputs=model.outputs + [attention_layer.output])"
   ]
  },
  {
   "cell_type": "code",
   "execution_count": 26,
   "metadata": {
    "collapsed": false
   },
   "outputs": [],
   "source": [
    "%matplotlib inline  \n",
    "import matplotlib\n",
    "import matplotlib.pyplot as plt\n",
    "import seaborn"
   ]
  },
  {
   "cell_type": "code",
   "execution_count": 27,
   "metadata": {
    "collapsed": true
   },
   "outputs": [],
   "source": [
    "human_vocab_file = open('../input/dataset/human_vocab.pickle', 'rb')\n",
    "human_vocab = pickle.load(human_vocab_file)\n",
    "human_vocab_file.close()\n",
    "\n",
    "machine_vocab_file = open('../input/dataset/machine_vocab.pickle', 'rb')\n",
    "machine_vocab = pickle.load(machine_vocab_file)\n",
    "machine_vocab_file.close()\n",
    "\n",
    "input_encoding = human_vocab\n",
    "output_encoding = machine_vocab\n",
    "input_decoding = {v: k for k, v in input_encoding.items()}\n",
    "output_decoding = {v: k for k, v in output_encoding.items()}"
   ]
  },
  {
   "cell_type": "code",
   "execution_count": 36,
   "metadata": {
    "collapsed": false
   },
   "outputs": [],
   "source": [
    "encoder_input = x[0:1]\n",
    "decoder_input = y_input[0:1]"
   ]
  },
  {
   "cell_type": "code",
   "execution_count": 37,
   "metadata": {
    "collapsed": false
   },
   "outputs": [
    {
     "data": {
      "text/plain": [
       "array([[ -1.,   2.,  10.,  10.,   9.,   0.,   1.,   6.,   0.,   1.]])"
      ]
     },
     "execution_count": 37,
     "metadata": {},
     "output_type": "execute_result"
    }
   ],
   "source": [
    "decoder_input"
   ]
  },
  {
   "cell_type": "code",
   "execution_count": 38,
   "metadata": {
    "collapsed": true
   },
   "outputs": [],
   "source": [
    "decoder_output= np.zeros(shape=(len(encoder_input), OUTPUT_LENGTH))"
   ]
  },
  {
   "cell_type": "code",
   "execution_count": 39,
   "metadata": {
    "collapsed": false
   },
   "outputs": [],
   "source": [
    "for i in range(0, 10):\n",
    "    output, attention = attention_model.predict([encoder_input, decoder_input])\n",
    "    decoder_output[:,i] = output.argmax(axis=2)[:,i]\n",
    "    attention_density = attention[0]"
   ]
  },
  {
   "cell_type": "code",
   "execution_count": 40,
   "metadata": {
    "collapsed": false
   },
   "outputs": [
    {
     "data": {
      "text/plain": [
       "array([[  2.,  10.,  10.,   9.,   0.,   0.,   6.,   0.,   0.,  10.]])"
      ]
     },
     "execution_count": 40,
     "metadata": {},
     "output_type": "execute_result"
    }
   ],
   "source": [
    "decoder_output"
   ]
  },
  {
   "cell_type": "code",
   "execution_count": 41,
   "metadata": {
    "collapsed": false
   },
   "outputs": [
    {
     "data": {
      "text/plain": [
       "'9 may 1998                    '"
      ]
     },
     "execution_count": 41,
     "metadata": {},
     "output_type": "execute_result"
    }
   ],
   "source": [
    "text = ''\n",
    "for key, value in enumerate(encoder_input[0]):\n",
    "    if value != 36:\n",
    "        text += str(input_decoding[value])\n",
    "    else:\n",
    "        text += ' '\n",
    "text"
   ]
  },
  {
   "cell_type": "code",
   "execution_count": 44,
   "metadata": {
    "collapsed": false
   },
   "outputs": [
    {
     "data": {
      "text/plain": [
       "'1998--5--9'"
      ]
     },
     "execution_count": 44,
     "metadata": {},
     "output_type": "execute_result"
    }
   ],
   "source": [
    "date = ''\n",
    "for key, value in enumerate(decoder_output[0]):\n",
    "    date += str(output_decoding[value])\n",
    "date"
   ]
  },
  {
   "cell_type": "code",
   "execution_count": 45,
   "metadata": {
    "collapsed": false
   },
   "outputs": [
    {
     "data": {
      "text/plain": [
       "<matplotlib.figure.Figure at 0x2182edd4128>"
      ]
     },
     "metadata": {},
     "output_type": "display_data"
    },
    {
     "data": {
      "image/png": "[encoded data removed]",
      "text/plain": [
       "<matplotlib.figure.Figure at 0x2182ed489b0>"
      ]
     },
     "metadata": {},
     "output_type": "display_data"
    }
   ],
   "source": [
    "plt.clf()\n",
    "plt.figure(figsize=(14,6))\n",
    "\n",
    "ax = seaborn.heatmap(attention_density[:len(date), : len(text)],\n",
    "        xticklabels=[w for w in text],\n",
    "        yticklabels=[w for w in date])\n",
    "\n",
    "ax.invert_yaxis()\n",
    "plt.show()"
   ]
  },
  {
   "cell_type": "code",
   "execution_count": 72,
   "metadata": {
    "collapsed": false
   },
   "outputs": [
    {
     "name": "stderr",
     "output_type": "stream",
     "text": [
      "C:\\Users\\boringtao\\Anaconda3\\lib\\site-packages\\keras\\engine\\topology.py:2361: UserWarning: Layer lstm_2 was passed non-serializable keyword arguments: {'initial_state': [<tf.Tensor 'strided_slice:0' shape=(?, 64) dtype=float32>, <tf.Tensor 'strided_slice:0' shape=(?, 64) dtype=float32>]}. They will not be included in the serialized model (and thus will be missing at deserialization time).\n",
      "  str(node.arguments) + '. They will not be included '\n"
     ]
    }
   ],
   "source": [
    "model_json = model.to_json()\n",
    "with open(\"../output/saved/date_model_attention_99.81.json\", \"w\") as json_file:\n",
    "    json_file.write(model_json)\n",
    "model.save_weights(\"../output/saved/date_weight_attention_99.81.hdf5\")"
   ]
  },
  {
   "cell_type": "code",
   "execution_count": null,
   "metadata": {
    "collapsed": true
   },
   "outputs": [],
   "source": []
  }
 ],
 "metadata": {
  "anaconda-cloud": {},
  "kernelspec": {
   "display_name": "Python [default]",
   "language": "python",
   "name": "python3"
  },
  "language_info": {
   "codemirror_mode": {
    "name": "ipython",
    "version": 3
   },
   "file_extension": ".py",
   "mimetype": "text/x-python",
   "name": "python",
   "nbconvert_exporter": "python",
   "pygments_lexer": "ipython3",
   "version": "3.5.2"
  }
 },
 "nbformat": 4,
 "nbformat_minor": 1
}
