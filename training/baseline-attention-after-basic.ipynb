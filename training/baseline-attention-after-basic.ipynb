{
 "cells": [
  {
   "cell_type": "code",
   "execution_count": 1,
   "metadata": {
    "collapsed": false
   },
   "outputs": [
    {
     "name": "stderr",
     "output_type": "stream",
     "text": [
      "Using TensorFlow backend.\n"
     ]
    }
   ],
   "source": [
    "from keras.models import Sequential, model_from_json\n",
    "from keras.callbacks import ModelCheckpoint, EarlyStopping, ReduceLROnPlateau\n",
    "from keras.constraints import maxnorm\n",
    "from keras import regularizers\n",
    "from keras.layers.normalization import BatchNormalization\n",
    "\n",
    "from keras.layers import *\n",
    "from keras.models import *\n",
    "\n",
    "from keras.regularizers import l2\n",
    "\n",
    "from keras.applications import imagenet_utils, Xception\n",
    "from keras.preprocessing.image import img_to_array\n",
    "import keras.backend as K\n",
    "\n",
    "import numpy as np \n",
    "import json\n",
    "import os\n",
    "import cv2\n",
    "import h5py\n",
    "import pickle\n",
    "\n",
    "import matplotlib.pyplot as plt\n",
    "%matplotlib inline"
   ]
  },
  {
   "cell_type": "code",
   "execution_count": 2,
   "metadata": {
    "collapsed": true
   },
   "outputs": [],
   "source": [
    "import tensorflow as tf\n",
    "config = tf.ConfigProto()\n",
    "config.gpu_options.allow_growth = True\n",
    "session = tf.Session(config=config)"
   ]
  },
  {
   "cell_type": "code",
   "execution_count": 3,
   "metadata": {
    "collapsed": true
   },
   "outputs": [],
   "source": [
    "from helpers import TrainingMonitor\n",
    "from helpers import Utils"
   ]
  },
  {
   "cell_type": "code",
   "execution_count": 4,
   "metadata": {
    "collapsed": true
   },
   "outputs": [],
   "source": [
    "Xoh_file = open('../input/dataset/Xoh.pickle', 'rb')\n",
    "x = pickle.load(Xoh_file)\n",
    "Xoh_file.close()"
   ]
  },
  {
   "cell_type": "code",
   "execution_count": 5,
   "metadata": {
    "collapsed": true
   },
   "outputs": [],
   "source": [
    "Yoh_file = open('../input/dataset/Yoh.pickle', 'rb')\n",
    "y = pickle.load(Yoh_file)\n",
    "Yoh_file.close()"
   ]
  },
  {
   "cell_type": "code",
   "execution_count": 6,
   "metadata": {
    "collapsed": false
   },
   "outputs": [
    {
     "data": {
      "text/plain": [
       "(30, 37)"
      ]
     },
     "execution_count": 6,
     "metadata": {},
     "output_type": "execute_result"
    }
   ],
   "source": [
    "x[0].shape"
   ]
  },
  {
   "cell_type": "code",
   "execution_count": 7,
   "metadata": {
    "collapsed": false
   },
   "outputs": [
    {
     "data": {
      "text/plain": [
       "(10, 11)"
      ]
     },
     "execution_count": 7,
     "metadata": {},
     "output_type": "execute_result"
    }
   ],
   "source": [
    "y[0].shape"
   ]
  },
  {
   "cell_type": "code",
   "execution_count": 8,
   "metadata": {
    "collapsed": false
   },
   "outputs": [],
   "source": [
    "train_split, val_split = 0.7, 0.15\n",
    "\n",
    "train_len = int(train_split * x.shape[0])\n",
    "train_val_len = int((train_split + val_split) * x.shape[0])\n",
    "\n",
    "x_train = x[:train_len]\n",
    "x_val = x[train_len:train_val_len]\n",
    "x_test = x[train_val_len:]\n",
    "\n",
    "y_train = y[:train_len]\n",
    "y_val = y[train_len:train_val_len]\n",
    "y_test = y[train_val_len:]"
   ]
  },
  {
   "cell_type": "code",
   "execution_count": 9,
   "metadata": {
    "collapsed": false
   },
   "outputs": [
    {
     "data": {
      "text/plain": [
       "(700, 30, 37)"
      ]
     },
     "execution_count": 9,
     "metadata": {},
     "output_type": "execute_result"
    }
   ],
   "source": [
    "x_train.shape"
   ]
  },
  {
   "cell_type": "code",
   "execution_count": 10,
   "metadata": {
    "collapsed": true
   },
   "outputs": [],
   "source": [
    "TIME_STEPS = x_train.shape[1]\n",
    "INPUT_DIM = x_train.shape[2]"
   ]
  },
  {
   "cell_type": "code",
   "execution_count": 11,
   "metadata": {
    "collapsed": false
   },
   "outputs": [
    {
     "data": {
      "text/plain": [
       "(700, 10, 11)"
      ]
     },
     "execution_count": 11,
     "metadata": {},
     "output_type": "execute_result"
    }
   ],
   "source": [
    "y_train.shape"
   ]
  },
  {
   "cell_type": "code",
   "execution_count": 12,
   "metadata": {
    "collapsed": true
   },
   "outputs": [],
   "source": [
    "def attention(inputs):\n",
    "    input_dim = int(inputs.shape[2])\n",
    "    a = Permute((2, 1))(inputs)\n",
    "    a = Dense(TIME_STEPS, activation='softmax')(a)\n",
    "    a_probs = Permute((2, 1))(a)\n",
    "    output_attention_mul = multiply([inputs, a_probs])\n",
    "    return output_attention_mul"
   ]
  },
  {
   "cell_type": "code",
   "execution_count": 24,
   "metadata": {
    "collapsed": false
   },
   "outputs": [],
   "source": [
    "inputs = Input(shape=(TIME_STEPS, INPUT_DIM,))\n",
    "lstm_out = LSTM(64, return_sequences=True)(inputs)\n",
    "attention_mul = attention(lstm_out)\n",
    "output = LSTM(64)(attention_mul)\n",
    "output = RepeatVector(10)(output)\n",
    "output = LSTM(64, return_sequences=True)(output)\n",
    "output = TimeDistributed(Dense(11, activation=\"softmax\"))(output)\n",
    "model = Model(inputs, output)"
   ]
  },
  {
   "cell_type": "code",
   "execution_count": 25,
   "metadata": {
    "collapsed": false
   },
   "outputs": [
    {
     "name": "stdout",
     "output_type": "stream",
     "text": [
      "__________________________________________________________________________________________________\n",
      "Layer (type)                    Output Shape         Param #     Connected to                     \n",
      "==================================================================================================\n",
      "input_7 (InputLayer)            (None, 30, 37)       0                                            \n",
      "__________________________________________________________________________________________________\n",
      "lstm_13 (LSTM)                  (None, 30, 64)       26112       input_7[0][0]                    \n",
      "__________________________________________________________________________________________________\n",
      "permute_13 (Permute)            (None, 64, 30)       0           lstm_13[0][0]                    \n",
      "__________________________________________________________________________________________________\n",
      "dense_11 (Dense)                (None, 64, 30)       930         permute_13[0][0]                 \n",
      "__________________________________________________________________________________________________\n",
      "permute_14 (Permute)            (None, 30, 64)       0           dense_11[0][0]                   \n",
      "__________________________________________________________________________________________________\n",
      "multiply_7 (Multiply)           (None, 30, 64)       0           lstm_13[0][0]                    \n",
      "                                                                 permute_14[0][0]                 \n",
      "__________________________________________________________________________________________________\n",
      "lstm_14 (LSTM)                  (None, 64)           33024       multiply_7[0][0]                 \n",
      "__________________________________________________________________________________________________\n",
      "repeat_vector_7 (RepeatVector)  (None, 10, 64)       0           lstm_14[0][0]                    \n",
      "__________________________________________________________________________________________________\n",
      "lstm_15 (LSTM)                  (None, 10, 64)       33024       repeat_vector_7[0][0]            \n",
      "__________________________________________________________________________________________________\n",
      "time_distributed_5 (TimeDistrib (None, 10, 11)       715         lstm_15[0][0]                    \n",
      "==================================================================================================\n",
      "Total params: 93,805\n",
      "Trainable params: 93,805\n",
      "Non-trainable params: 0\n",
      "__________________________________________________________________________________________________\n"
     ]
    }
   ],
   "source": [
    "model.summary()"
   ]
  },
  {
   "cell_type": "code",
   "execution_count": 26,
   "metadata": {
    "collapsed": true
   },
   "outputs": [],
   "source": [
    "model.compile(loss=\"categorical_crossentropy\", optimizer=\"adam\", metrics=[\"accuracy\"]) "
   ]
  },
  {
   "cell_type": "code",
   "execution_count": 27,
   "metadata": {
    "collapsed": false
   },
   "outputs": [
    {
     "name": "stdout",
     "output_type": "stream",
     "text": [
      "10280\n"
     ]
    }
   ],
   "source": [
    "output_path = \"../output/\"\n",
    "\n",
    "print(os.getpid())\n",
    "filepath=output_path + \"progress/seq2seq-attention-weights-best.hdf5\"\n",
    "MC = ModelCheckpoint(filepath, monitor='val_acc', verbose=0, save_best_only=True, mode='max')\n",
    "\n",
    "figPath = os.path.sep.join([output_path, \"monitor/{}.png\".format(os.getpid())])\n",
    "jsonPath = os.path.sep.join([output_path, \"monitor/{}.json\".format(os.getpid())])\n",
    "TM = TrainingMonitor(figPath, jsonPath=jsonPath, startAt=0)\n",
    "\n",
    "RLR = ReduceLROnPlateau(factor=np.sqrt(0.1), cooldown=0, patience=5, min_lr=0.5e-6)\n",
    "\n",
    "callbacks = [MC, TM, RLR]"
   ]
  },
  {
   "cell_type": "code",
   "execution_count": 28,
   "metadata": {
    "collapsed": false
   },
   "outputs": [
    {
     "name": "stdout",
     "output_type": "stream",
     "text": [
      "Train on 700 samples, validate on 150 samples\n",
      "Epoch 1/100\n",
      "700/700 [==============================] - 7s 10ms/step - loss: 2.3180 - acc: 0.1934 - val_loss: 2.1830 - val_acc: 0.2000\n",
      "Epoch 2/100\n",
      "700/700 [==============================] - 2s 4ms/step - loss: 2.1621 - acc: 0.1973 - val_loss: 2.1337 - val_acc: 0.2000\n",
      "Epoch 3/100\n",
      "700/700 [==============================] - 2s 4ms/step - loss: 2.1035 - acc: 0.2524 - val_loss: 2.0513 - val_acc: 0.2993\n",
      "Epoch 4/100\n",
      "700/700 [==============================] - 2s 4ms/step - loss: 2.0043 - acc: 0.2973 - val_loss: 1.9589 - val_acc: 0.3033\n",
      "Epoch 5/100\n",
      "700/700 [==============================] - 3s 4ms/step - loss: 1.9235 - acc: 0.3454 - val_loss: 1.8721 - val_acc: 0.4147\n",
      "Epoch 6/100\n",
      "700/700 [==============================] - 2s 4ms/step - loss: 1.8513 - acc: 0.3896 - val_loss: 1.8186 - val_acc: 0.3787\n",
      "Epoch 7/100\n",
      "700/700 [==============================] - 2s 3ms/step - loss: 1.7825 - acc: 0.3963 - val_loss: 1.7423 - val_acc: 0.3813\n",
      "Epoch 8/100\n",
      "700/700 [==============================] - 2s 4ms/step - loss: 1.7218 - acc: 0.4010 - val_loss: 1.6705 - val_acc: 0.4113\n",
      "Epoch 9/100\n",
      "700/700 [==============================] - 3s 4ms/step - loss: 1.6415 - acc: 0.4364 - val_loss: 1.5793 - val_acc: 0.4840\n",
      "Epoch 10/100\n",
      "700/700 [==============================] - 2s 4ms/step - loss: 1.5517 - acc: 0.4873 - val_loss: 1.4901 - val_acc: 0.4927\n",
      "Epoch 11/100\n",
      "700/700 [==============================] - 2s 4ms/step - loss: 1.4484 - acc: 0.4930 - val_loss: 1.3742 - val_acc: 0.4873\n",
      "Epoch 12/100\n",
      "700/700 [==============================] - 2s 4ms/step - loss: 1.3084 - acc: 0.4929 - val_loss: 1.2458 - val_acc: 0.5000\n",
      "Epoch 13/100\n",
      "700/700 [==============================] - 2s 4ms/step - loss: 1.2270 - acc: 0.5023 - val_loss: 1.2002 - val_acc: 0.5173\n",
      "Epoch 14/100\n",
      "700/700 [==============================] - 2s 4ms/step - loss: 1.1951 - acc: 0.5116 - val_loss: 1.1736 - val_acc: 0.4980\n",
      "Epoch 15/100\n",
      "700/700 [==============================] - 3s 4ms/step - loss: 1.1659 - acc: 0.5169 - val_loss: 1.1528 - val_acc: 0.5060\n",
      "Epoch 16/100\n",
      "700/700 [==============================] - 3s 4ms/step - loss: 1.1468 - acc: 0.5250 - val_loss: 1.1384 - val_acc: 0.5193\n",
      "Epoch 17/100\n",
      "700/700 [==============================] - 2s 4ms/step - loss: 1.1312 - acc: 0.5317 - val_loss: 1.1234 - val_acc: 0.5307\n",
      "Epoch 18/100\n",
      "700/700 [==============================] - 2s 4ms/step - loss: 1.1201 - acc: 0.5326 - val_loss: 1.1148 - val_acc: 0.5220\n",
      "Epoch 19/100\n",
      "700/700 [==============================] - 2s 4ms/step - loss: 1.1099 - acc: 0.5369 - val_loss: 1.1057 - val_acc: 0.5333\n",
      "Epoch 20/100\n",
      "700/700 [==============================] - 2s 4ms/step - loss: 1.1037 - acc: 0.5379 - val_loss: 1.1015 - val_acc: 0.5360\n",
      "Epoch 21/100\n",
      "700/700 [==============================] - 3s 4ms/step - loss: 1.0954 - acc: 0.5381 - val_loss: 1.0919 - val_acc: 0.5373\n",
      "Epoch 22/100\n",
      "700/700 [==============================] - 2s 4ms/step - loss: 1.0891 - acc: 0.5420 - val_loss: 1.0893 - val_acc: 0.5340\n",
      "Epoch 23/100\n",
      "700/700 [==============================] - 2s 4ms/step - loss: 1.0807 - acc: 0.5426 - val_loss: 1.0837 - val_acc: 0.5473\n",
      "Epoch 24/100\n",
      "700/700 [==============================] - 2s 4ms/step - loss: 1.0822 - acc: 0.5487 - val_loss: 1.0969 - val_acc: 0.5427\n",
      "Epoch 25/100\n",
      "700/700 [==============================] - 2s 4ms/step - loss: 1.0818 - acc: 0.5391 - val_loss: 1.0698 - val_acc: 0.5380\n",
      "Epoch 26/100\n",
      "700/700 [==============================] - 2s 4ms/step - loss: 1.0730 - acc: 0.5410 - val_loss: 1.0704 - val_acc: 0.5493\n",
      "Epoch 27/100\n",
      "700/700 [==============================] - 2s 4ms/step - loss: 1.0700 - acc: 0.5416 - val_loss: 1.0608 - val_acc: 0.5440\n",
      "Epoch 28/100\n",
      "700/700 [==============================] - 3s 4ms/step - loss: 1.0519 - acc: 0.5569 - val_loss: 1.0413 - val_acc: 0.5593\n",
      "Epoch 29/100\n",
      "700/700 [==============================] - 2s 4ms/step - loss: 1.0323 - acc: 0.5743 - val_loss: 1.0221 - val_acc: 0.5833\n",
      "Epoch 30/100\n",
      "700/700 [==============================] - 3s 4ms/step - loss: 1.0104 - acc: 0.5971 - val_loss: 1.0022 - val_acc: 0.5847\n",
      "Epoch 31/100\n",
      "700/700 [==============================] - 3s 4ms/step - loss: 0.9860 - acc: 0.6069 - val_loss: 0.9995 - val_acc: 0.5967\n",
      "Epoch 32/100\n",
      "700/700 [==============================] - 2s 4ms/step - loss: 0.9792 - acc: 0.6046 - val_loss: 0.9997 - val_acc: 0.5767\n",
      "Epoch 33/100\n",
      "700/700 [==============================] - 2s 4ms/step - loss: 0.9593 - acc: 0.6200 - val_loss: 0.9808 - val_acc: 0.5967\n",
      "Epoch 34/100\n",
      "700/700 [==============================] - 3s 4ms/step - loss: 0.9414 - acc: 0.6254 - val_loss: 0.9388 - val_acc: 0.6193\n",
      "Epoch 35/100\n",
      "700/700 [==============================] - 2s 4ms/step - loss: 0.9085 - acc: 0.6369 - val_loss: 0.9129 - val_acc: 0.6293\n",
      "Epoch 36/100\n",
      "700/700 [==============================] - 2s 4ms/step - loss: 0.9071 - acc: 0.6336 - val_loss: 0.9469 - val_acc: 0.6160\n",
      "Epoch 37/100\n",
      "700/700 [==============================] - 2s 4ms/step - loss: 0.9024 - acc: 0.6350 - val_loss: 0.9015 - val_acc: 0.6287\n",
      "Epoch 38/100\n",
      "700/700 [==============================] - 2s 4ms/step - loss: 0.8777 - acc: 0.6499 - val_loss: 0.8836 - val_acc: 0.6407\n",
      "Epoch 39/100\n",
      "700/700 [==============================] - 2s 4ms/step - loss: 0.8821 - acc: 0.6476 - val_loss: 0.9314 - val_acc: 0.6280\n",
      "Epoch 40/100\n",
      "700/700 [==============================] - 2s 4ms/step - loss: 0.8752 - acc: 0.6501 - val_loss: 0.8871 - val_acc: 0.6407\n",
      "Epoch 41/100\n",
      "700/700 [==============================] - 3s 4ms/step - loss: 0.8600 - acc: 0.6556 - val_loss: 0.8731 - val_acc: 0.6420\n",
      "Epoch 42/100\n",
      "700/700 [==============================] - 2s 4ms/step - loss: 0.8507 - acc: 0.6586 - val_loss: 0.8690 - val_acc: 0.6440\n",
      "Epoch 43/100\n",
      "700/700 [==============================] - 3s 4ms/step - loss: 0.8506 - acc: 0.6587 - val_loss: 0.8761 - val_acc: 0.6473\n",
      "Epoch 44/100\n",
      "700/700 [==============================] - 2s 3ms/step - loss: 0.8564 - acc: 0.6576 - val_loss: 0.8839 - val_acc: 0.6373\n",
      "Epoch 45/100\n",
      "700/700 [==============================] - 2s 4ms/step - loss: 0.8390 - acc: 0.6630 - val_loss: 0.8633 - val_acc: 0.6493\n",
      "Epoch 46/100\n",
      "700/700 [==============================] - 2s 4ms/step - loss: 0.8243 - acc: 0.6727 - val_loss: 0.8591 - val_acc: 0.6553\n",
      "Epoch 47/100\n",
      "700/700 [==============================] - 3s 4ms/step - loss: 0.8200 - acc: 0.6780 - val_loss: 0.8460 - val_acc: 0.6587\n",
      "Epoch 48/100\n",
      "700/700 [==============================] - 2s 4ms/step - loss: 0.8169 - acc: 0.6791 - val_loss: 0.8534 - val_acc: 0.6613\n",
      "Epoch 49/100\n",
      "700/700 [==============================] - 2s 4ms/step - loss: 0.8084 - acc: 0.6756 - val_loss: 0.8432 - val_acc: 0.6587\n",
      "Epoch 50/100\n",
      "700/700 [==============================] - 3s 4ms/step - loss: 0.8011 - acc: 0.6827 - val_loss: 0.8395 - val_acc: 0.6667\n",
      "Epoch 51/100\n",
      "700/700 [==============================] - 3s 4ms/step - loss: 0.7946 - acc: 0.6856 - val_loss: 0.8337 - val_acc: 0.6667\n",
      "Epoch 52/100\n",
      "700/700 [==============================] - 3s 4ms/step - loss: 0.7872 - acc: 0.6933 - val_loss: 0.8248 - val_acc: 0.6673\n",
      "Epoch 53/100\n",
      "700/700 [==============================] - 2s 4ms/step - loss: 0.7881 - acc: 0.6884 - val_loss: 0.8321 - val_acc: 0.6593\n",
      "Epoch 54/100\n",
      "700/700 [==============================] - 3s 4ms/step - loss: 0.7821 - acc: 0.6974 - val_loss: 0.8172 - val_acc: 0.6767\n",
      "Epoch 55/100\n",
      "700/700 [==============================] - 2s 3ms/step - loss: 0.7821 - acc: 0.6907 - val_loss: 0.8248 - val_acc: 0.6707\n",
      "Epoch 56/100\n",
      "700/700 [==============================] - 2s 3ms/step - loss: 0.7714 - acc: 0.6986 - val_loss: 0.8154 - val_acc: 0.6733\n",
      "Epoch 57/100\n",
      "700/700 [==============================] - 2s 4ms/step - loss: 0.7624 - acc: 0.7013 - val_loss: 0.8224 - val_acc: 0.6620\n",
      "Epoch 58/100\n",
      "700/700 [==============================] - 2s 4ms/step - loss: 0.7629 - acc: 0.7001 - val_loss: 0.8144 - val_acc: 0.6807\n",
      "Epoch 59/100\n",
      "700/700 [==============================] - 2s 4ms/step - loss: 0.7604 - acc: 0.7000 - val_loss: 0.8173 - val_acc: 0.6720\n",
      "Epoch 60/100\n",
      "700/700 [==============================] - 3s 4ms/step - loss: 0.7582 - acc: 0.7020 - val_loss: 0.7975 - val_acc: 0.6813\n",
      "Epoch 61/100\n",
      "700/700 [==============================] - 2s 4ms/step - loss: 0.7452 - acc: 0.7087 - val_loss: 0.8127 - val_acc: 0.6680\n",
      "Epoch 62/100\n",
      "700/700 [==============================] - 2s 4ms/step - loss: 0.7425 - acc: 0.7070 - val_loss: 0.8027 - val_acc: 0.6760\n",
      "Epoch 63/100\n",
      "700/700 [==============================] - 2s 4ms/step - loss: 0.7406 - acc: 0.7093 - val_loss: 0.8051 - val_acc: 0.6687\n",
      "Epoch 64/100\n",
      "700/700 [==============================] - 3s 4ms/step - loss: 0.7381 - acc: 0.7091 - val_loss: 0.7923 - val_acc: 0.6840\n",
      "Epoch 65/100\n",
      "700/700 [==============================] - 2s 4ms/step - loss: 0.7429 - acc: 0.7059 - val_loss: 0.8172 - val_acc: 0.6780\n",
      "Epoch 66/100\n",
      "700/700 [==============================] - 3s 4ms/step - loss: 0.7288 - acc: 0.7117 - val_loss: 0.7914 - val_acc: 0.6887\n",
      "Epoch 67/100\n",
      "700/700 [==============================] - 3s 4ms/step - loss: 0.7181 - acc: 0.7170 - val_loss: 0.7886 - val_acc: 0.6760\n",
      "Epoch 68/100\n",
      "700/700 [==============================] - 2s 4ms/step - loss: 0.7090 - acc: 0.7199 - val_loss: 0.7827 - val_acc: 0.6893\n",
      "Epoch 69/100\n",
      "700/700 [==============================] - 2s 4ms/step - loss: 0.7046 - acc: 0.7233 - val_loss: 0.7808 - val_acc: 0.6907\n",
      "Epoch 70/100\n",
      "700/700 [==============================] - 2s 4ms/step - loss: 0.7018 - acc: 0.7249 - val_loss: 0.7892 - val_acc: 0.6840\n",
      "Epoch 71/100\n",
      "700/700 [==============================] - 2s 4ms/step - loss: 0.7054 - acc: 0.7191 - val_loss: 0.7777 - val_acc: 0.6933\n",
      "Epoch 72/100\n",
      "700/700 [==============================] - 2s 3ms/step - loss: 0.6942 - acc: 0.7306 - val_loss: 0.7796 - val_acc: 0.6867\n",
      "Epoch 73/100\n",
      "700/700 [==============================] - 3s 4ms/step - loss: 0.6944 - acc: 0.7299 - val_loss: 0.7834 - val_acc: 0.6893\n",
      "Epoch 74/100\n",
      "700/700 [==============================] - 2s 4ms/step - loss: 0.6900 - acc: 0.7291 - val_loss: 0.7754 - val_acc: 0.6907\n",
      "Epoch 75/100\n",
      "700/700 [==============================] - 2s 4ms/step - loss: 0.6793 - acc: 0.7356 - val_loss: 0.7751 - val_acc: 0.6940\n",
      "Epoch 76/100\n",
      "700/700 [==============================] - 3s 4ms/step - loss: 0.6758 - acc: 0.7361 - val_loss: 0.7823 - val_acc: 0.6833\n",
      "Epoch 77/100\n",
      "700/700 [==============================] - 3s 4ms/step - loss: 0.6824 - acc: 0.7293 - val_loss: 0.7768 - val_acc: 0.6960\n",
      "Epoch 78/100\n",
      "700/700 [==============================] - 2s 4ms/step - loss: 0.6732 - acc: 0.7327 - val_loss: 0.7834 - val_acc: 0.6900\n",
      "Epoch 79/100\n",
      "700/700 [==============================] - 3s 4ms/step - loss: 0.6740 - acc: 0.7386 - val_loss: 0.7769 - val_acc: 0.6880\n",
      "Epoch 80/100\n",
      "700/700 [==============================] - 2s 4ms/step - loss: 0.6633 - acc: 0.7389 - val_loss: 0.7684 - val_acc: 0.6960\n",
      "Epoch 81/100\n",
      "700/700 [==============================] - 2s 4ms/step - loss: 0.6620 - acc: 0.7437 - val_loss: 0.7740 - val_acc: 0.6940\n",
      "Epoch 82/100\n",
      "700/700 [==============================] - 2s 4ms/step - loss: 0.6554 - acc: 0.7416 - val_loss: 0.7713 - val_acc: 0.7013\n",
      "Epoch 83/100\n",
      "700/700 [==============================] - 2s 4ms/step - loss: 0.6459 - acc: 0.7471 - val_loss: 0.7814 - val_acc: 0.6967\n",
      "Epoch 84/100\n",
      "700/700 [==============================] - 2s 4ms/step - loss: 0.6440 - acc: 0.7499 - val_loss: 0.7790 - val_acc: 0.6993\n",
      "Epoch 85/100\n",
      "700/700 [==============================] - 3s 4ms/step - loss: 0.6402 - acc: 0.7477 - val_loss: 0.7878 - val_acc: 0.6973\n",
      "Epoch 86/100\n",
      "700/700 [==============================] - 3s 4ms/step - loss: 0.6307 - acc: 0.7546 - val_loss: 0.7719 - val_acc: 0.7053\n",
      "Epoch 87/100\n",
      "700/700 [==============================] - 2s 4ms/step - loss: 0.6158 - acc: 0.7636 - val_loss: 0.7565 - val_acc: 0.7040\n",
      "Epoch 88/100\n",
      "700/700 [==============================] - 2s 4ms/step - loss: 0.6086 - acc: 0.7649 - val_loss: 0.7665 - val_acc: 0.7000\n",
      "Epoch 89/100\n",
      "700/700 [==============================] - 2s 4ms/step - loss: 0.6050 - acc: 0.7683 - val_loss: 0.7637 - val_acc: 0.7060\n",
      "Epoch 90/100\n",
      "700/700 [==============================] - 2s 4ms/step - loss: 0.6018 - acc: 0.7689 - val_loss: 0.7636 - val_acc: 0.7047\n",
      "Epoch 91/100\n",
      "700/700 [==============================] - 2s 4ms/step - loss: 0.6003 - acc: 0.7710 - val_loss: 0.7626 - val_acc: 0.7027\n",
      "Epoch 92/100\n",
      "700/700 [==============================] - 3s 4ms/step - loss: 0.5976 - acc: 0.7706 - val_loss: 0.7633 - val_acc: 0.7047\n",
      "Epoch 93/100\n",
      "700/700 [==============================] - 2s 4ms/step - loss: 0.5956 - acc: 0.7697 - val_loss: 0.7582 - val_acc: 0.7040\n",
      "Epoch 94/100\n",
      "700/700 [==============================] - 2s 4ms/step - loss: 0.5910 - acc: 0.7750 - val_loss: 0.7588 - val_acc: 0.7093\n",
      "Epoch 95/100\n",
      "700/700 [==============================] - 2s 4ms/step - loss: 0.5894 - acc: 0.7749 - val_loss: 0.7596 - val_acc: 0.7087\n",
      "Epoch 96/100\n",
      "700/700 [==============================] - 2s 4ms/step - loss: 0.5885 - acc: 0.7747 - val_loss: 0.7590 - val_acc: 0.7067\n",
      "Epoch 97/100\n",
      "700/700 [==============================] - 2s 4ms/step - loss: 0.5883 - acc: 0.7766 - val_loss: 0.7611 - val_acc: 0.7053\n",
      "Epoch 98/100\n",
      "700/700 [==============================] - 3s 4ms/step - loss: 0.5878 - acc: 0.7759 - val_loss: 0.7606 - val_acc: 0.7073\n",
      "Epoch 99/100\n",
      "700/700 [==============================] - 2s 4ms/step - loss: 0.5853 - acc: 0.7774 - val_loss: 0.7591 - val_acc: 0.7060\n",
      "Epoch 100/100\n",
      "700/700 [==============================] - 2s 4ms/step - loss: 0.5851 - acc: 0.7776 - val_loss: 0.7596 - val_acc: 0.7093\n"
     ]
    }
   ],
   "source": [
    "history = model.fit(x_train, y_train,\n",
    "            batch_size=32,\n",
    "            epochs=100,\n",
    "            validation_data=(x_val, y_val),\n",
    "            shuffle=\"batch\",\n",
    "            callbacks=callbacks)"
   ]
  },
  {
   "cell_type": "code",
   "execution_count": 117,
   "metadata": {
    "collapsed": false
   },
   "outputs": [
    {
     "name": "stdout",
     "output_type": "stream",
     "text": [
      "Train: 82.71%; Val: 80.27%; Test: 80.20%\n"
     ]
    }
   ],
   "source": [
    "scores = model.evaluate(x_test, y_test, verbose=0)\n",
    "print(\"Train: %.2f%%; Val: %.2f%%; Test: %.2f%%\" % \n",
    "      (np.max(history.history['acc'])*100, np.max(history.history['val_acc'])*100, scores[1]*100)\n",
    "     )"
   ]
  },
  {
   "cell_type": "code",
   "execution_count": 118,
   "metadata": {
    "collapsed": true
   },
   "outputs": [],
   "source": [
    "model_json = model.to_json()\n",
    "with open(\"../output/saved/date_model_seq2seq_attention_80.20.json\", \"w\") as json_file:\n",
    "    json_file.write(model_json)\n",
    "model.save_weights(\"../output/saved/date_weight_seq2seq_attention_80.20.hdf5\")"
   ]
  },
  {
   "cell_type": "code",
   "execution_count": null,
   "metadata": {
    "collapsed": true
   },
   "outputs": [],
   "source": []
  }
 ],
 "metadata": {
  "anaconda-cloud": {},
  "kernelspec": {
   "display_name": "Python [default]",
   "language": "python",
   "name": "python3"
  },
  "language_info": {
   "codemirror_mode": {
    "name": "ipython",
    "version": 3
   },
   "file_extension": ".py",
   "mimetype": "text/x-python",
   "name": "python",
   "nbconvert_exporter": "python",
   "pygments_lexer": "ipython3",
   "version": "3.5.2"
  }
 },
 "nbformat": 4,
 "nbformat_minor": 1
}
