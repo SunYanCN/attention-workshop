{
 "cells": [
  {
   "cell_type": "code",
   "execution_count": 1,
   "metadata": {
    "collapsed": false
   },
   "outputs": [
    {
     "name": "stderr",
     "output_type": "stream",
     "text": [
      "Using TensorFlow backend.\n"
     ]
    }
   ],
   "source": [
    "from keras.models import Sequential, model_from_json\n",
    "from keras.callbacks import ModelCheckpoint, EarlyStopping, ReduceLROnPlateau\n",
    "from keras.constraints import maxnorm\n",
    "from keras import regularizers\n",
    "from keras.layers.normalization import BatchNormalization\n",
    "from keras.layers import Dense, Dropout, Activation, Flatten, Input\n",
    "from keras.layers import Conv2D, MaxPooling2D, GlobalAveragePooling2D, SeparableConv2D\n",
    "from keras.layers import RepeatVector, TimeDistributed\n",
    "from keras.layers import concatenate, add, Lambda\n",
    "from keras.layers import LSTM\n",
    "from keras.models import Model\n",
    "from keras.regularizers import l2\n",
    "\n",
    "from keras.applications import imagenet_utils, Xception\n",
    "from keras.preprocessing.image import img_to_array\n",
    "import keras.backend as K\n",
    "\n",
    "import numpy as np \n",
    "import json\n",
    "import os\n",
    "import cv2\n",
    "import h5py\n",
    "import pickle\n",
    "\n",
    "import matplotlib.pyplot as plt\n",
    "%matplotlib inline"
   ]
  },
  {
   "cell_type": "code",
   "execution_count": 2,
   "metadata": {
    "collapsed": true
   },
   "outputs": [],
   "source": [
    "import tensorflow as tf\n",
    "config = tf.ConfigProto()\n",
    "config.gpu_options.allow_growth = True\n",
    "session = tf.Session(config=config)"
   ]
  },
  {
   "cell_type": "code",
   "execution_count": 3,
   "metadata": {
    "collapsed": true
   },
   "outputs": [],
   "source": [
    "from helpers import TrainingMonitor\n",
    "from helpers import Utils"
   ]
  },
  {
   "cell_type": "code",
   "execution_count": 4,
   "metadata": {
    "collapsed": true
   },
   "outputs": [],
   "source": [
    "Xoh_file = open('../input/dataset/Xoh.pickle', 'rb')\n",
    "x = pickle.load(Xoh_file)\n",
    "Xoh_file.close()"
   ]
  },
  {
   "cell_type": "code",
   "execution_count": 5,
   "metadata": {
    "collapsed": true
   },
   "outputs": [],
   "source": [
    "Yoh_file = open('../input/dataset/Yoh.pickle', 'rb')\n",
    "y = pickle.load(Yoh_file)\n",
    "Yoh_file.close()"
   ]
  },
  {
   "cell_type": "code",
   "execution_count": 6,
   "metadata": {
    "collapsed": false
   },
   "outputs": [
    {
     "data": {
      "text/plain": [
       "(1000, 30, 37)"
      ]
     },
     "execution_count": 6,
     "metadata": {},
     "output_type": "execute_result"
    }
   ],
   "source": [
    "x.shape"
   ]
  },
  {
   "cell_type": "code",
   "execution_count": 7,
   "metadata": {
    "collapsed": false
   },
   "outputs": [
    {
     "data": {
      "text/plain": [
       "(10, 11)"
      ]
     },
     "execution_count": 7,
     "metadata": {},
     "output_type": "execute_result"
    }
   ],
   "source": [
    "y[0].shape"
   ]
  },
  {
   "cell_type": "code",
   "execution_count": 8,
   "metadata": {
    "collapsed": false
   },
   "outputs": [],
   "source": [
    "train_split, val_split = 0.7, 0.15\n",
    "\n",
    "train_len = int(train_split * x.shape[0])\n",
    "train_val_len = int((train_split + val_split) * x.shape[0])\n",
    "\n",
    "x_train = x[:train_len]\n",
    "x_val = x[train_len:train_val_len]\n",
    "x_test = x[train_val_len:]\n",
    "\n",
    "y_train = y[:train_len]\n",
    "y_val = y[train_len:train_val_len]\n",
    "y_test = y[train_val_len:]"
   ]
  },
  {
   "cell_type": "code",
   "execution_count": 9,
   "metadata": {
    "collapsed": false
   },
   "outputs": [
    {
     "data": {
      "text/plain": [
       "(700, 30, 37)"
      ]
     },
     "execution_count": 9,
     "metadata": {},
     "output_type": "execute_result"
    }
   ],
   "source": [
    "x_train.shape"
   ]
  },
  {
   "cell_type": "code",
   "execution_count": 10,
   "metadata": {
    "collapsed": false
   },
   "outputs": [
    {
     "data": {
      "text/plain": [
       "(700, 10, 11)"
      ]
     },
     "execution_count": 10,
     "metadata": {},
     "output_type": "execute_result"
    }
   ],
   "source": [
    "y_train.shape"
   ]
  },
  {
   "cell_type": "code",
   "execution_count": 14,
   "metadata": {
    "collapsed": false
   },
   "outputs": [
    {
     "name": "stdout",
     "output_type": "stream",
     "text": [
      "_________________________________________________________________\n",
      "Layer (type)                 Output Shape              Param #   \n",
      "=================================================================\n",
      "lstm_4 (LSTM)                (None, 128)               84992     \n",
      "_________________________________________________________________\n",
      "repeat_vector_2 (RepeatVecto (None, 10, 128)           0         \n",
      "_________________________________________________________________\n",
      "lstm_5 (LSTM)                (None, 10, 64)            49408     \n",
      "_________________________________________________________________\n",
      "time_distributed_2 (TimeDist (None, 10, 11)            715       \n",
      "=================================================================\n",
      "Total params: 135,115\n",
      "Trainable params: 135,115\n",
      "Non-trainable params: 0\n",
      "_________________________________________________________________\n",
      "None\n"
     ]
    }
   ],
   "source": [
    "model = Sequential() \n",
    "model.add(LSTM(128, input_shape=(30, 37)))\n",
    "model.add(RepeatVector(10))\n",
    "model.add(LSTM(64, return_sequences=True))\n",
    "model.add(TimeDistributed(Dense(11, activation=\"softmax\"))) \n",
    "model.compile(loss=\"categorical_crossentropy\", optimizer=\"adam\", metrics=[\"accuracy\"]) \n",
    "print(model.summary())"
   ]
  },
  {
   "cell_type": "code",
   "execution_count": 15,
   "metadata": {
    "collapsed": false
   },
   "outputs": [
    {
     "name": "stdout",
     "output_type": "stream",
     "text": [
      "7144\n"
     ]
    }
   ],
   "source": [
    "output_path = \"../output/\"\n",
    "\n",
    "print(os.getpid())\n",
    "filepath=output_path + \"progress/seq2seq-stacked-weights-best.hdf5\"\n",
    "MC = ModelCheckpoint(filepath, monitor='val_acc', verbose=0, save_best_only=True, mode='max')\n",
    "\n",
    "figPath = os.path.sep.join([output_path, \"monitor/{}.png\".format(os.getpid())])\n",
    "jsonPath = os.path.sep.join([output_path, \"monitor/{}.json\".format(os.getpid())])\n",
    "TM = TrainingMonitor(figPath, jsonPath=jsonPath, startAt=0)\n",
    "\n",
    "RLR = ReduceLROnPlateau(factor=np.sqrt(0.1), cooldown=0, patience=5, min_lr=0.5e-6)\n",
    "\n",
    "callbacks = [MC, TM, RLR]"
   ]
  },
  {
   "cell_type": "code",
   "execution_count": 16,
   "metadata": {
    "collapsed": false
   },
   "outputs": [
    {
     "name": "stdout",
     "output_type": "stream",
     "text": [
      "Train on 700 samples, validate on 150 samples\n",
      "Epoch 1/100\n",
      "700/700 [==============================] - 3s 4ms/step - loss: 2.2298 - acc: 0.1923 - val_loss: 2.1471 - val_acc: 0.2000\n",
      "Epoch 2/100\n",
      "700/700 [==============================] - 1s 2ms/step - loss: 2.1150 - acc: 0.2299 - val_loss: 2.0631 - val_acc: 0.3033\n",
      "Epoch 3/100\n",
      "700/700 [==============================] - 1s 2ms/step - loss: 2.0098 - acc: 0.2809 - val_loss: 1.9409 - val_acc: 0.3707\n",
      "Epoch 4/100\n",
      "700/700 [==============================] - 1s 2ms/step - loss: 1.9150 - acc: 0.3736 - val_loss: 1.8719 - val_acc: 0.3980\n",
      "Epoch 5/100\n",
      "700/700 [==============================] - 1s 2ms/step - loss: 1.8428 - acc: 0.3786 - val_loss: 1.7989 - val_acc: 0.4113\n",
      "Epoch 6/100\n",
      "700/700 [==============================] - 1s 2ms/step - loss: 1.7752 - acc: 0.3891 - val_loss: 1.7261 - val_acc: 0.4013\n",
      "Epoch 7/100\n",
      "700/700 [==============================] - 1s 2ms/step - loss: 1.6943 - acc: 0.4117 - val_loss: 1.6416 - val_acc: 0.4007\n",
      "Epoch 8/100\n",
      "700/700 [==============================] - 1s 2ms/step - loss: 1.5864 - acc: 0.4563 - val_loss: 1.4984 - val_acc: 0.4693\n",
      "Epoch 9/100\n",
      "700/700 [==============================] - 1s 2ms/step - loss: 1.4340 - acc: 0.4889 - val_loss: 1.3569 - val_acc: 0.4813\n",
      "Epoch 10/100\n",
      "700/700 [==============================] - 1s 2ms/step - loss: 1.3054 - acc: 0.4851 - val_loss: 1.2628 - val_acc: 0.4907\n",
      "Epoch 11/100\n",
      "700/700 [==============================] - 1s 2ms/step - loss: 1.2432 - acc: 0.4889 - val_loss: 1.2255 - val_acc: 0.5007\n",
      "Epoch 12/100\n",
      "700/700 [==============================] - 1s 2ms/step - loss: 1.2149 - acc: 0.4889 - val_loss: 1.2090 - val_acc: 0.4953\n",
      "Epoch 13/100\n",
      "700/700 [==============================] - 1s 2ms/step - loss: 1.2043 - acc: 0.4946 - val_loss: 1.1981 - val_acc: 0.4887\n",
      "Epoch 14/100\n",
      "700/700 [==============================] - 1s 2ms/step - loss: 1.1976 - acc: 0.4951 - val_loss: 1.1911 - val_acc: 0.4933\n",
      "Epoch 15/100\n",
      "700/700 [==============================] - 1s 2ms/step - loss: 1.1901 - acc: 0.4917 - val_loss: 1.1934 - val_acc: 0.4840\n",
      "Epoch 16/100\n",
      "700/700 [==============================] - 1s 2ms/step - loss: 1.1845 - acc: 0.5037 - val_loss: 1.1879 - val_acc: 0.4907\n",
      "Epoch 17/100\n",
      "700/700 [==============================] - 1s 2ms/step - loss: 1.1820 - acc: 0.4993 - val_loss: 1.1797 - val_acc: 0.4980\n",
      "Epoch 18/100\n",
      "700/700 [==============================] - 1s 2ms/step - loss: 1.1787 - acc: 0.4964 - val_loss: 1.1775 - val_acc: 0.4947\n",
      "Epoch 19/100\n",
      "700/700 [==============================] - 1s 2ms/step - loss: 1.1767 - acc: 0.5026 - val_loss: 1.1763 - val_acc: 0.4813\n",
      "Epoch 20/100\n",
      "700/700 [==============================] - 1s 2ms/step - loss: 1.1762 - acc: 0.4963 - val_loss: 1.1765 - val_acc: 0.4940\n",
      "Epoch 21/100\n",
      "700/700 [==============================] - 1s 2ms/step - loss: 1.1720 - acc: 0.5021 - val_loss: 1.1753 - val_acc: 0.4847\n",
      "Epoch 22/100\n",
      "700/700 [==============================] - 1s 2ms/step - loss: 1.1661 - acc: 0.5061 - val_loss: 1.1604 - val_acc: 0.5020\n",
      "Epoch 23/100\n",
      "700/700 [==============================] - 1s 2ms/step - loss: 1.1432 - acc: 0.5311 - val_loss: 1.1165 - val_acc: 0.5407\n",
      "Epoch 24/100\n",
      "700/700 [==============================] - 1s 2ms/step - loss: 1.0882 - acc: 0.5660 - val_loss: 1.0864 - val_acc: 0.5513\n",
      "Epoch 25/100\n",
      "700/700 [==============================] - 1s 2ms/step - loss: 1.0436 - acc: 0.5971 - val_loss: 1.0130 - val_acc: 0.6020\n",
      "Epoch 26/100\n",
      "700/700 [==============================] - 1s 2ms/step - loss: 1.0013 - acc: 0.6137 - val_loss: 0.9982 - val_acc: 0.5960\n",
      "Epoch 27/100\n",
      "700/700 [==============================] - 1s 2ms/step - loss: 0.9750 - acc: 0.6223 - val_loss: 0.9671 - val_acc: 0.6260\n",
      "Epoch 28/100\n",
      "700/700 [==============================] - 1s 2ms/step - loss: 0.9456 - acc: 0.6327 - val_loss: 0.9677 - val_acc: 0.6113\n",
      "Epoch 29/100\n",
      "700/700 [==============================] - 1s 2ms/step - loss: 0.9363 - acc: 0.6293 - val_loss: 0.9643 - val_acc: 0.6267\n",
      "Epoch 30/100\n",
      "700/700 [==============================] - 1s 2ms/step - loss: 0.9222 - acc: 0.6311 - val_loss: 0.9373 - val_acc: 0.6213\n",
      "Epoch 31/100\n",
      "700/700 [==============================] - 1s 2ms/step - loss: 0.9030 - acc: 0.6443 - val_loss: 0.9235 - val_acc: 0.6247\n",
      "Epoch 32/100\n",
      "700/700 [==============================] - 1s 2ms/step - loss: 0.8962 - acc: 0.6430 - val_loss: 0.9133 - val_acc: 0.6333\n",
      "Epoch 33/100\n",
      "700/700 [==============================] - 1s 2ms/step - loss: 0.8855 - acc: 0.6510 - val_loss: 0.9111 - val_acc: 0.6233\n",
      "Epoch 34/100\n",
      "700/700 [==============================] - 2s 2ms/step - loss: 0.8684 - acc: 0.6597 - val_loss: 0.9004 - val_acc: 0.6340\n",
      "Epoch 35/100\n",
      "700/700 [==============================] - 1s 2ms/step - loss: 0.8552 - acc: 0.6690 - val_loss: 0.8821 - val_acc: 0.6600\n",
      "Epoch 36/100\n",
      "700/700 [==============================] - 1s 2ms/step - loss: 0.8459 - acc: 0.6716 - val_loss: 0.8790 - val_acc: 0.6520\n",
      "Epoch 37/100\n",
      "700/700 [==============================] - 1s 2ms/step - loss: 0.8303 - acc: 0.6833 - val_loss: 0.8645 - val_acc: 0.6667\n",
      "Epoch 38/100\n",
      "700/700 [==============================] - 1s 2ms/step - loss: 0.8180 - acc: 0.6844 - val_loss: 0.8446 - val_acc: 0.6713\n",
      "Epoch 39/100\n",
      "700/700 [==============================] - 1s 2ms/step - loss: 0.7987 - acc: 0.6971 - val_loss: 0.8369 - val_acc: 0.6713\n",
      "Epoch 40/100\n",
      "700/700 [==============================] - 1s 2ms/step - loss: 0.7904 - acc: 0.7016 - val_loss: 0.8195 - val_acc: 0.6920\n",
      "Epoch 41/100\n",
      "700/700 [==============================] - 1s 2ms/step - loss: 0.7738 - acc: 0.7091 - val_loss: 0.8160 - val_acc: 0.6873\n",
      "Epoch 42/100\n",
      "700/700 [==============================] - 1s 2ms/step - loss: 0.7617 - acc: 0.7191 - val_loss: 0.7879 - val_acc: 0.7087\n",
      "Epoch 43/100\n",
      "700/700 [==============================] - 1s 2ms/step - loss: 0.7500 - acc: 0.7314 - val_loss: 0.7771 - val_acc: 0.7113\n",
      "Epoch 44/100\n",
      "700/700 [==============================] - 1s 2ms/step - loss: 0.7186 - acc: 0.7377 - val_loss: 0.7781 - val_acc: 0.7093\n",
      "Epoch 45/100\n",
      "700/700 [==============================] - 1s 2ms/step - loss: 0.7102 - acc: 0.7401 - val_loss: 0.7508 - val_acc: 0.7260\n",
      "Epoch 46/100\n",
      "700/700 [==============================] - 1s 2ms/step - loss: 0.6884 - acc: 0.7504 - val_loss: 0.7223 - val_acc: 0.7267\n",
      "Epoch 47/100\n",
      "700/700 [==============================] - 1s 2ms/step - loss: 0.6602 - acc: 0.7657 - val_loss: 0.7121 - val_acc: 0.7373\n",
      "Epoch 48/100\n",
      "700/700 [==============================] - 1s 2ms/step - loss: 0.6367 - acc: 0.7716 - val_loss: 0.6875 - val_acc: 0.7633\n",
      "Epoch 49/100\n",
      "700/700 [==============================] - 1s 2ms/step - loss: 0.6169 - acc: 0.7823 - val_loss: 0.6732 - val_acc: 0.7553\n",
      "Epoch 50/100\n",
      "700/700 [==============================] - 1s 2ms/step - loss: 0.5963 - acc: 0.7871 - val_loss: 0.6555 - val_acc: 0.7647\n",
      "Epoch 51/100\n",
      "700/700 [==============================] - 1s 2ms/step - loss: 0.5801 - acc: 0.7960 - val_loss: 0.6583 - val_acc: 0.7727\n",
      "Epoch 52/100\n",
      "700/700 [==============================] - 1s 2ms/step - loss: 0.5598 - acc: 0.8050 - val_loss: 0.6143 - val_acc: 0.7813\n",
      "Epoch 53/100\n",
      "700/700 [==============================] - 1s 2ms/step - loss: 0.5336 - acc: 0.8174 - val_loss: 0.6146 - val_acc: 0.7833\n",
      "Epoch 54/100\n",
      "700/700 [==============================] - 1s 2ms/step - loss: 0.5120 - acc: 0.8273 - val_loss: 0.5945 - val_acc: 0.7893\n",
      "Epoch 55/100\n",
      "700/700 [==============================] - 1s 2ms/step - loss: 0.4933 - acc: 0.8349 - val_loss: 0.5800 - val_acc: 0.7940\n",
      "Epoch 56/100\n",
      "700/700 [==============================] - 1s 2ms/step - loss: 0.4747 - acc: 0.8404 - val_loss: 0.5629 - val_acc: 0.8033\n",
      "Epoch 57/100\n",
      "700/700 [==============================] - 1s 2ms/step - loss: 0.4582 - acc: 0.8491 - val_loss: 0.5679 - val_acc: 0.7927\n",
      "Epoch 58/100\n",
      "700/700 [==============================] - 1s 2ms/step - loss: 0.4458 - acc: 0.8516 - val_loss: 0.5626 - val_acc: 0.7967\n",
      "Epoch 59/100\n",
      "700/700 [==============================] - 1s 2ms/step - loss: 0.4286 - acc: 0.8589 - val_loss: 0.5293 - val_acc: 0.8087\n",
      "Epoch 60/100\n",
      "700/700 [==============================] - 1s 2ms/step - loss: 0.4137 - acc: 0.8687 - val_loss: 0.5316 - val_acc: 0.8133\n",
      "Epoch 61/100\n",
      "700/700 [==============================] - 1s 2ms/step - loss: 0.4321 - acc: 0.8581 - val_loss: 0.5470 - val_acc: 0.7967\n",
      "Epoch 62/100\n",
      "700/700 [==============================] - 1s 2ms/step - loss: 0.4267 - acc: 0.8544 - val_loss: 0.5176 - val_acc: 0.8120\n",
      "Epoch 63/100\n",
      "700/700 [==============================] - 1s 2ms/step - loss: 0.3927 - acc: 0.8689 - val_loss: 0.5107 - val_acc: 0.8173\n",
      "Epoch 64/100\n",
      "700/700 [==============================] - 1s 2ms/step - loss: 0.3585 - acc: 0.8906 - val_loss: 0.4807 - val_acc: 0.8247\n",
      "Epoch 65/100\n",
      "700/700 [==============================] - 1s 2ms/step - loss: 0.3368 - acc: 0.8980 - val_loss: 0.4726 - val_acc: 0.8353\n",
      "Epoch 66/100\n",
      "700/700 [==============================] - 1s 2ms/step - loss: 0.3208 - acc: 0.9049 - val_loss: 0.4631 - val_acc: 0.8427\n",
      "Epoch 67/100\n",
      "700/700 [==============================] - 1s 2ms/step - loss: 0.3061 - acc: 0.9093 - val_loss: 0.4703 - val_acc: 0.8313\n",
      "Epoch 68/100\n",
      "700/700 [==============================] - 1s 2ms/step - loss: 0.2904 - acc: 0.9157 - val_loss: 0.4508 - val_acc: 0.8480\n",
      "Epoch 69/100\n",
      "700/700 [==============================] - 1s 2ms/step - loss: 0.2830 - acc: 0.9184 - val_loss: 0.4574 - val_acc: 0.8380\n",
      "Epoch 70/100\n",
      "700/700 [==============================] - 1s 2ms/step - loss: 0.2763 - acc: 0.9247 - val_loss: 0.4613 - val_acc: 0.8413\n",
      "Epoch 71/100\n",
      "700/700 [==============================] - 1s 2ms/step - loss: 0.2935 - acc: 0.9134 - val_loss: 0.4417 - val_acc: 0.8367\n",
      "Epoch 72/100\n",
      "700/700 [==============================] - 1s 2ms/step - loss: 0.2834 - acc: 0.9129 - val_loss: 0.4644 - val_acc: 0.8307\n",
      "Epoch 73/100\n",
      "700/700 [==============================] - 1s 2ms/step - loss: 0.2580 - acc: 0.9281 - val_loss: 0.4487 - val_acc: 0.8373\n",
      "Epoch 74/100\n",
      "700/700 [==============================] - 2s 2ms/step - loss: 0.2354 - acc: 0.9366 - val_loss: 0.4196 - val_acc: 0.8587\n",
      "Epoch 75/100\n",
      "700/700 [==============================] - 1s 2ms/step - loss: 0.2145 - acc: 0.9489 - val_loss: 0.4201 - val_acc: 0.8540\n",
      "Epoch 76/100\n",
      "700/700 [==============================] - 1s 2ms/step - loss: 0.1987 - acc: 0.9529 - val_loss: 0.3983 - val_acc: 0.8673\n",
      "Epoch 77/100\n",
      "700/700 [==============================] - 1s 2ms/step - loss: 0.1889 - acc: 0.9570 - val_loss: 0.4246 - val_acc: 0.8627\n",
      "Epoch 78/100\n",
      "700/700 [==============================] - 1s 2ms/step - loss: 0.1766 - acc: 0.9647 - val_loss: 0.4076 - val_acc: 0.8640\n",
      "Epoch 79/100\n",
      "700/700 [==============================] - 1s 2ms/step - loss: 0.1720 - acc: 0.9613 - val_loss: 0.4051 - val_acc: 0.8580\n",
      "Epoch 80/100\n",
      "700/700 [==============================] - 1s 2ms/step - loss: 0.1636 - acc: 0.9680 - val_loss: 0.3962 - val_acc: 0.8627\n",
      "Epoch 81/100\n",
      "700/700 [==============================] - 1s 2ms/step - loss: 0.1548 - acc: 0.9697 - val_loss: 0.4175 - val_acc: 0.8600\n",
      "Epoch 82/100\n",
      "700/700 [==============================] - 1s 2ms/step - loss: 0.1517 - acc: 0.9686 - val_loss: 0.3971 - val_acc: 0.8687\n",
      "Epoch 83/100\n",
      "700/700 [==============================] - 1s 2ms/step - loss: 0.1396 - acc: 0.9764 - val_loss: 0.3916 - val_acc: 0.8727\n",
      "Epoch 84/100\n",
      "700/700 [==============================] - 1s 2ms/step - loss: 0.1319 - acc: 0.9776 - val_loss: 0.3867 - val_acc: 0.8707\n",
      "Epoch 85/100\n",
      "700/700 [==============================] - 1s 2ms/step - loss: 0.1402 - acc: 0.9727 - val_loss: 0.4027 - val_acc: 0.8693\n",
      "Epoch 86/100\n",
      "700/700 [==============================] - 1s 2ms/step - loss: 0.1332 - acc: 0.9736 - val_loss: 0.3947 - val_acc: 0.8647\n",
      "Epoch 87/100\n",
      "700/700 [==============================] - 1s 2ms/step - loss: 0.1260 - acc: 0.9771 - val_loss: 0.4010 - val_acc: 0.8687\n",
      "Epoch 88/100\n",
      "700/700 [==============================] - 1s 2ms/step - loss: 0.1219 - acc: 0.9777 - val_loss: 0.3874 - val_acc: 0.8733\n",
      "Epoch 89/100\n",
      "700/700 [==============================] - 1s 2ms/step - loss: 0.1109 - acc: 0.9819 - val_loss: 0.3891 - val_acc: 0.8760\n",
      "Epoch 90/100\n",
      "700/700 [==============================] - 1s 2ms/step - loss: 0.0988 - acc: 0.9839 - val_loss: 0.3751 - val_acc: 0.8787\n",
      "Epoch 91/100\n",
      "700/700 [==============================] - 1s 2ms/step - loss: 0.0890 - acc: 0.9903 - val_loss: 0.3636 - val_acc: 0.8847\n",
      "Epoch 92/100\n",
      "700/700 [==============================] - 1s 2ms/step - loss: 0.0843 - acc: 0.9904 - val_loss: 0.3706 - val_acc: 0.8860\n",
      "Epoch 93/100\n",
      "700/700 [==============================] - 1s 2ms/step - loss: 0.0774 - acc: 0.9927 - val_loss: 0.3812 - val_acc: 0.8800\n",
      "Epoch 94/100\n",
      "700/700 [==============================] - 1s 2ms/step - loss: 0.0734 - acc: 0.9927 - val_loss: 0.3713 - val_acc: 0.8827\n",
      "Epoch 95/100\n",
      "700/700 [==============================] - 1s 2ms/step - loss: 0.0695 - acc: 0.9934 - val_loss: 0.3769 - val_acc: 0.8793\n",
      "Epoch 96/100\n",
      "700/700 [==============================] - 1s 2ms/step - loss: 0.0663 - acc: 0.9937 - val_loss: 0.3822 - val_acc: 0.8773\n",
      "Epoch 97/100\n",
      "700/700 [==============================] - 2s 2ms/step - loss: 0.0617 - acc: 0.9959 - val_loss: 0.3703 - val_acc: 0.8880\n",
      "Epoch 98/100\n",
      "700/700 [==============================] - 1s 2ms/step - loss: 0.0556 - acc: 0.9966 - val_loss: 0.3632 - val_acc: 0.8827\n",
      "Epoch 99/100\n",
      "700/700 [==============================] - 1s 2ms/step - loss: 0.0527 - acc: 0.9967 - val_loss: 0.3638 - val_acc: 0.8820\n",
      "Epoch 100/100\n",
      "700/700 [==============================] - 1s 2ms/step - loss: 0.0515 - acc: 0.9970 - val_loss: 0.3636 - val_acc: 0.8807\n"
     ]
    }
   ],
   "source": [
    "history = model.fit(x_train, y_train,\n",
    "            batch_size=32,\n",
    "            epochs=100,\n",
    "            validation_data=(x_val, y_val),\n",
    "            shuffle=\"batch\",\n",
    "            callbacks=callbacks)"
   ]
  },
  {
   "cell_type": "code",
   "execution_count": 17,
   "metadata": {
    "collapsed": false
   },
   "outputs": [
    {
     "name": "stdout",
     "output_type": "stream",
     "text": [
      "Train: 99.70%; Val: 88.80%; Test: 88.07%\n"
     ]
    }
   ],
   "source": [
    "scores = model.evaluate(x_test, y_test, verbose=0)\n",
    "print(\"Train: %.2f%%; Val: %.2f%%; Test: %.2f%%\" % \n",
    "      (np.max(history.history['acc'])*100, np.max(history.history['val_acc'])*100, scores[1]*100)\n",
    "     )"
   ]
  },
  {
   "cell_type": "code",
   "execution_count": null,
   "metadata": {
    "collapsed": true
   },
   "outputs": [],
   "source": [
    "model_json = model.to_json()\n",
    "with open(\"../output/saved/date_model_seq2seq_94.33.json\", \"w\") as json_file:\n",
    "    json_file.write(model_json)\n",
    "model.save_weights(\"../output/saved/date_weight_seq2seq_94.33.hdf5\")"
   ]
  },
  {
   "cell_type": "code",
   "execution_count": null,
   "metadata": {
    "collapsed": true
   },
   "outputs": [],
   "source": []
  }
 ],
 "metadata": {
  "anaconda-cloud": {},
  "kernelspec": {
   "display_name": "Python [default]",
   "language": "python",
   "name": "python3"
  },
  "language_info": {
   "codemirror_mode": {
    "name": "ipython",
    "version": 3
   },
   "file_extension": ".py",
   "mimetype": "text/x-python",
   "name": "python",
   "nbconvert_exporter": "python",
   "pygments_lexer": "ipython3",
   "version": "3.5.2"
  }
 },
 "nbformat": 4,
 "nbformat_minor": 1
}
