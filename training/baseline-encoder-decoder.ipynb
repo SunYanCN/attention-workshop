{
 "cells": [
  {
   "cell_type": "code",
   "execution_count": 1,
   "metadata": {
    "collapsed": false
   },
   "outputs": [
    {
     "name": "stderr",
     "output_type": "stream",
     "text": [
      "Using TensorFlow backend.\n"
     ]
    }
   ],
   "source": [
    "from keras.models import Sequential, model_from_json\n",
    "from keras.callbacks import ModelCheckpoint, EarlyStopping, ReduceLROnPlateau\n",
    "from keras.constraints import maxnorm\n",
    "from keras import regularizers\n",
    "from keras.layers.normalization import BatchNormalization\n",
    "from keras.layers import Dense, Dropout, Activation, Flatten, Input\n",
    "from keras.layers import Conv2D, MaxPooling2D, GlobalAveragePooling2D, SeparableConv2D\n",
    "from keras.layers import Bidirectional, RepeatVector, TimeDistributed, Permute, Embedding\n",
    "from keras.layers import concatenate, add, Lambda, multiply\n",
    "from keras.layers import LSTM\n",
    "from keras.models import Model\n",
    "from keras.regularizers import l2\n",
    "from keras.preprocessing.sequence import pad_sequences\n",
    "\n",
    "from keras.applications import imagenet_utils, Xception\n",
    "from keras.preprocessing.image import img_to_array\n",
    "import keras.backend as K\n",
    "\n",
    "import numpy as np \n",
    "import json\n",
    "import os\n",
    "import cv2\n",
    "import h5py\n",
    "import pickle\n",
    "\n",
    "import matplotlib.pyplot as plt\n",
    "%matplotlib inline"
   ]
  },
  {
   "cell_type": "code",
   "execution_count": 2,
   "metadata": {
    "collapsed": true
   },
   "outputs": [],
   "source": [
    "import tensorflow as tf\n",
    "config = tf.ConfigProto()\n",
    "config.gpu_options.allow_growth = True\n",
    "session = tf.Session(config=config)"
   ]
  },
  {
   "cell_type": "code",
   "execution_count": 3,
   "metadata": {
    "collapsed": true
   },
   "outputs": [],
   "source": [
    "from helpers import TrainingMonitor\n",
    "from helpers import Utils"
   ]
  },
  {
   "cell_type": "code",
   "execution_count": 4,
   "metadata": {
    "collapsed": false
   },
   "outputs": [],
   "source": [
    "X_file = open('../input/dataset/X.pickle', 'rb')\n",
    "x = pickle.load(X_file)\n",
    "X_file.close()"
   ]
  },
  {
   "cell_type": "code",
   "execution_count": 5,
   "metadata": {
    "collapsed": true
   },
   "outputs": [],
   "source": [
    "Y_file = open('../input/dataset/Y.pickle', 'rb')\n",
    "y = pickle.load(Y_file)\n",
    "Y_file.close()"
   ]
  },
  {
   "cell_type": "code",
   "execution_count": 6,
   "metadata": {
    "collapsed": false
   },
   "outputs": [],
   "source": [
    "y = np.array(y)"
   ]
  },
  {
   "cell_type": "code",
   "execution_count": 7,
   "metadata": {
    "collapsed": false
   },
   "outputs": [],
   "source": [
    "y_input = np.zeros([1000, 10])\n",
    "y_input[:, 1:] = y[:,:-1]\n",
    "y_input[:, 0] = -1"
   ]
  },
  {
   "cell_type": "code",
   "execution_count": 8,
   "metadata": {
    "collapsed": false
   },
   "outputs": [
    {
     "data": {
      "text/plain": [
       "array([ -1.,   2.,  10.,  10.,   9.,   0.,   1.,   6.,   0.,   1.])"
      ]
     },
     "execution_count": 8,
     "metadata": {},
     "output_type": "execute_result"
    }
   ],
   "source": [
    "y_input[0]"
   ]
  },
  {
   "cell_type": "code",
   "execution_count": 9,
   "metadata": {
    "collapsed": true
   },
   "outputs": [],
   "source": [
    "Yoh_file = open('../input/dataset/Yoh.pickle', 'rb')\n",
    "yoh = pickle.load(Yoh_file)\n",
    "Yoh_file.close()"
   ]
  },
  {
   "cell_type": "code",
   "execution_count": 10,
   "metadata": {
    "collapsed": false
   },
   "outputs": [],
   "source": [
    "train_split, val_split = 0.7, 0.15\n",
    "\n",
    "train_len = int(train_split * x.shape[0])\n",
    "train_val_len = int((train_split + val_split) * x.shape[0])\n",
    "\n",
    "x_train = x[:train_len]\n",
    "x_val = x[train_len:train_val_len]\n",
    "x_test = x[train_val_len:]\n",
    "\n",
    "y_input_train = y_input[:train_len]\n",
    "y_input_val = y_input[train_len:train_val_len]\n",
    "y_input_test = y_input[train_val_len:]\n",
    "\n",
    "yoh_train = yoh[:train_len]\n",
    "yoh_val = yoh[train_len:train_val_len]\n",
    "yoh_test = yoh[train_val_len:]"
   ]
  },
  {
   "cell_type": "code",
   "execution_count": 11,
   "metadata": {
    "collapsed": false
   },
   "outputs": [
    {
     "data": {
      "text/plain": [
       "(700, 30)"
      ]
     },
     "execution_count": 11,
     "metadata": {},
     "output_type": "execute_result"
    }
   ],
   "source": [
    "x_train.shape"
   ]
  },
  {
   "cell_type": "code",
   "execution_count": 12,
   "metadata": {
    "collapsed": false
   },
   "outputs": [
    {
     "data": {
      "text/plain": [
       "(700, 10)"
      ]
     },
     "execution_count": 12,
     "metadata": {},
     "output_type": "execute_result"
    }
   ],
   "source": [
    "y_input_train.shape"
   ]
  },
  {
   "cell_type": "code",
   "execution_count": 13,
   "metadata": {
    "collapsed": false
   },
   "outputs": [
    {
     "data": {
      "text/plain": [
       "(700, 10, 11)"
      ]
     },
     "execution_count": 13,
     "metadata": {},
     "output_type": "execute_result"
    }
   ],
   "source": [
    "yoh_train.shape"
   ]
  },
  {
   "cell_type": "code",
   "execution_count": 14,
   "metadata": {
    "collapsed": true
   },
   "outputs": [],
   "source": [
    "INPUT_LENGTH = 30\n",
    "OUTPUT_LENGTH = 10\n",
    "input_dict_size = 37\n",
    "output_dict_size = 11"
   ]
  },
  {
   "cell_type": "code",
   "execution_count": 15,
   "metadata": {
    "collapsed": true
   },
   "outputs": [],
   "source": [
    "encoder_input = Input(shape=(INPUT_LENGTH,))\n",
    "decoder_input = Input(shape=(OUTPUT_LENGTH,))"
   ]
  },
  {
   "cell_type": "code",
   "execution_count": 16,
   "metadata": {
    "collapsed": false
   },
   "outputs": [
    {
     "name": "stdout",
     "output_type": "stream",
     "text": [
      "(?, 64)\n"
     ]
    }
   ],
   "source": [
    "encoder = Embedding(input_dict_size, 64, input_length=INPUT_LENGTH, mask_zero=True)(encoder_input)\n",
    "encoder = LSTM(64)(encoder)\n",
    "print(encoder.get_shape())"
   ]
  },
  {
   "cell_type": "code",
   "execution_count": 17,
   "metadata": {
    "collapsed": false
   },
   "outputs": [
    {
     "name": "stdout",
     "output_type": "stream",
     "text": [
      "(?, 10, 11)\n"
     ]
    }
   ],
   "source": [
    "decoder = Embedding(output_dict_size, 64, input_length=OUTPUT_LENGTH, mask_zero=True)(decoder_input)\n",
    "\n",
    "decoder = LSTM(64, return_sequences=True)(decoder, initial_state=[encoder, encoder])\n",
    "decoder = TimeDistributed(Dense(output_dict_size, activation=\"softmax\"))(decoder)\n",
    "\n",
    "print(decoder.get_shape())"
   ]
  },
  {
   "cell_type": "code",
   "execution_count": 18,
   "metadata": {
    "collapsed": false
   },
   "outputs": [
    {
     "name": "stdout",
     "output_type": "stream",
     "text": [
      "__________________________________________________________________________________________________\n",
      "Layer (type)                    Output Shape         Param #     Connected to                     \n",
      "==================================================================================================\n",
      "input_1 (InputLayer)            (None, 30)           0                                            \n",
      "__________________________________________________________________________________________________\n",
      "input_2 (InputLayer)            (None, 10)           0                                            \n",
      "__________________________________________________________________________________________________\n",
      "embedding_1 (Embedding)         (None, 30, 64)       2368        input_1[0][0]                    \n",
      "__________________________________________________________________________________________________\n",
      "embedding_2 (Embedding)         (None, 10, 64)       704         input_2[0][0]                    \n",
      "__________________________________________________________________________________________________\n",
      "lstm_1 (LSTM)                   (None, 64)           33024       embedding_1[0][0]                \n",
      "__________________________________________________________________________________________________\n",
      "lstm_2 (LSTM)                   (None, 10, 64)       33024       embedding_2[0][0]                \n",
      "                                                                 lstm_1[0][0]                     \n",
      "                                                                 lstm_1[0][0]                     \n",
      "__________________________________________________________________________________________________\n",
      "time_distributed_1 (TimeDistrib (None, 10, 11)       715         lstm_2[0][0]                     \n",
      "==================================================================================================\n",
      "Total params: 69,835\n",
      "Trainable params: 69,835\n",
      "Non-trainable params: 0\n",
      "__________________________________________________________________________________________________\n"
     ]
    }
   ],
   "source": [
    "model = Model(inputs=[encoder_input, decoder_input], outputs=[decoder])\n",
    "model.compile(optimizer='adam', loss='binary_crossentropy', metrics=[\"accuracy\"])\n",
    "model.summary()"
   ]
  },
  {
   "cell_type": "code",
   "execution_count": 19,
   "metadata": {
    "collapsed": false
   },
   "outputs": [
    {
     "name": "stdout",
     "output_type": "stream",
     "text": [
      "Train on 700 samples, validate on 150 samples\n",
      "Epoch 1/50\n",
      "700/700 [==============================] - 3s 5ms/step - loss: 0.3021 - acc: 0.9091 - val_loss: 0.2973 - val_acc: 0.9091\n",
      "Epoch 2/50\n",
      "700/700 [==============================] - 1s 2ms/step - loss: 0.2865 - acc: 0.9091 - val_loss: 0.2759 - val_acc: 0.9091\n",
      "Epoch 3/50\n",
      "700/700 [==============================] - 1s 2ms/step - loss: 0.2699 - acc: 0.9091 - val_loss: 0.2627 - val_acc: 0.9091\n",
      "Epoch 4/50\n",
      "700/700 [==============================] - 1s 2ms/step - loss: 0.2580 - acc: 0.9091 - val_loss: 0.2513 - val_acc: 0.9089\n",
      "Epoch 5/50\n",
      "700/700 [==============================] - 1s 2ms/step - loss: 0.2469 - acc: 0.9114 - val_loss: 0.2397 - val_acc: 0.9129\n",
      "Epoch 6/50\n",
      "700/700 [==============================] - 1s 2ms/step - loss: 0.2355 - acc: 0.9157 - val_loss: 0.2281 - val_acc: 0.9264\n",
      "Epoch 7/50\n",
      "700/700 [==============================] - 1s 2ms/step - loss: 0.2240 - acc: 0.9266 - val_loss: 0.2164 - val_acc: 0.9292\n",
      "Epoch 8/50\n",
      "700/700 [==============================] - 1s 2ms/step - loss: 0.2127 - acc: 0.9330 - val_loss: 0.2060 - val_acc: 0.9347\n",
      "Epoch 9/50\n",
      "700/700 [==============================] - 1s 2ms/step - loss: 0.2028 - acc: 0.9373 - val_loss: 0.1974 - val_acc: 0.9347\n",
      "Epoch 10/50\n",
      "700/700 [==============================] - 1s 2ms/step - loss: 0.1944 - acc: 0.9374 - val_loss: 0.1899 - val_acc: 0.9366\n",
      "Epoch 11/50\n",
      "700/700 [==============================] - 1s 2ms/step - loss: 0.1866 - acc: 0.9395 - val_loss: 0.1826 - val_acc: 0.9384\n",
      "Epoch 12/50\n",
      "700/700 [==============================] - 1s 2ms/step - loss: 0.1789 - acc: 0.9417 - val_loss: 0.1753 - val_acc: 0.9423\n",
      "Epoch 13/50\n",
      "700/700 [==============================] - 1s 2ms/step - loss: 0.1715 - acc: 0.9431 - val_loss: 0.1684 - val_acc: 0.9430\n",
      "Epoch 14/50\n",
      "700/700 [==============================] - 1s 2ms/step - loss: 0.1649 - acc: 0.9432 - val_loss: 0.1623 - val_acc: 0.9438\n",
      "Epoch 15/50\n",
      "700/700 [==============================] - 1s 2ms/step - loss: 0.1591 - acc: 0.9451 - val_loss: 0.1559 - val_acc: 0.9461\n",
      "Epoch 16/50\n",
      "700/700 [==============================] - 1s 2ms/step - loss: 0.1540 - acc: 0.9464 - val_loss: 0.1507 - val_acc: 0.9471\n",
      "Epoch 17/50\n",
      "700/700 [==============================] - 1s 2ms/step - loss: 0.1503 - acc: 0.9469 - val_loss: 0.1478 - val_acc: 0.9474\n",
      "Epoch 18/50\n",
      "700/700 [==============================] - 1s 2ms/step - loss: 0.1479 - acc: 0.9471 - val_loss: 0.1463 - val_acc: 0.9474\n",
      "Epoch 19/50\n",
      "700/700 [==============================] - 1s 2ms/step - loss: 0.1464 - acc: 0.9471 - val_loss: 0.1450 - val_acc: 0.9474\n",
      "Epoch 20/50\n",
      "700/700 [==============================] - 1s 2ms/step - loss: 0.1453 - acc: 0.9471 - val_loss: 0.1441 - val_acc: 0.9474\n",
      "Epoch 21/50\n",
      "700/700 [==============================] - 1s 2ms/step - loss: 0.1445 - acc: 0.9471 - val_loss: 0.1436 - val_acc: 0.9474\n",
      "Epoch 22/50\n",
      "700/700 [==============================] - 2s 2ms/step - loss: 0.1438 - acc: 0.9471 - val_loss: 0.1431 - val_acc: 0.9474\n",
      "Epoch 23/50\n",
      "700/700 [==============================] - 1s 2ms/step - loss: 0.1432 - acc: 0.9471 - val_loss: 0.1427 - val_acc: 0.9474\n",
      "Epoch 24/50\n",
      "700/700 [==============================] - 2s 2ms/step - loss: 0.1430 - acc: 0.9471 - val_loss: 0.1424 - val_acc: 0.9474\n",
      "Epoch 25/50\n",
      "700/700 [==============================] - 2s 2ms/step - loss: 0.1425 - acc: 0.9471 - val_loss: 0.1422 - val_acc: 0.9474\n",
      "Epoch 26/50\n",
      "700/700 [==============================] - 1s 2ms/step - loss: 0.1422 - acc: 0.9471 - val_loss: 0.1419 - val_acc: 0.9474\n",
      "Epoch 27/50\n",
      "700/700 [==============================] - 1s 2ms/step - loss: 0.1418 - acc: 0.9471 - val_loss: 0.1417 - val_acc: 0.9474\n",
      "Epoch 28/50\n",
      "700/700 [==============================] - 1s 2ms/step - loss: 0.1417 - acc: 0.9468 - val_loss: 0.1415 - val_acc: 0.9473\n",
      "Epoch 29/50\n",
      "700/700 [==============================] - 1s 2ms/step - loss: 0.1413 - acc: 0.9471 - val_loss: 0.1413 - val_acc: 0.9473\n",
      "Epoch 30/50\n",
      "700/700 [==============================] - 1s 2ms/step - loss: 0.1412 - acc: 0.9471 - val_loss: 0.1411 - val_acc: 0.9473\n",
      "Epoch 31/50\n",
      "700/700 [==============================] - 1s 2ms/step - loss: 0.1410 - acc: 0.9471 - val_loss: 0.1409 - val_acc: 0.9473\n",
      "Epoch 32/50\n",
      "700/700 [==============================] - 1s 2ms/step - loss: 0.1408 - acc: 0.9467 - val_loss: 0.1409 - val_acc: 0.9473\n",
      "Epoch 33/50\n",
      "700/700 [==============================] - 1s 2ms/step - loss: 0.1405 - acc: 0.9472 - val_loss: 0.1408 - val_acc: 0.9476\n",
      "Epoch 34/50\n",
      "700/700 [==============================] - 1s 2ms/step - loss: 0.1403 - acc: 0.9471 - val_loss: 0.1406 - val_acc: 0.9476\n",
      "Epoch 35/50\n",
      "700/700 [==============================] - 1s 2ms/step - loss: 0.1404 - acc: 0.9470 - val_loss: 0.1408 - val_acc: 0.9476\n",
      "Epoch 36/50\n",
      "700/700 [==============================] - 1s 2ms/step - loss: 0.1400 - acc: 0.9472 - val_loss: 0.1404 - val_acc: 0.9476\n",
      "Epoch 37/50\n",
      "700/700 [==============================] - 1s 2ms/step - loss: 0.1399 - acc: 0.9472 - val_loss: 0.1402 - val_acc: 0.9476\n",
      "Epoch 38/50\n",
      "700/700 [==============================] - 1s 2ms/step - loss: 0.1399 - acc: 0.9472 - val_loss: 0.1404 - val_acc: 0.9476\n",
      "Epoch 39/50\n",
      "700/700 [==============================] - 1s 2ms/step - loss: 0.1397 - acc: 0.9472 - val_loss: 0.1403 - val_acc: 0.9476\n",
      "Epoch 40/50\n",
      "700/700 [==============================] - 1s 2ms/step - loss: 0.1395 - acc: 0.9472 - val_loss: 0.1402 - val_acc: 0.9476\n",
      "Epoch 41/50\n",
      "700/700 [==============================] - 1s 2ms/step - loss: 0.1396 - acc: 0.9472 - val_loss: 0.1401 - val_acc: 0.9476\n",
      "Epoch 42/50\n",
      "700/700 [==============================] - 1s 2ms/step - loss: 0.1396 - acc: 0.9472 - val_loss: 0.1400 - val_acc: 0.9476\n",
      "Epoch 43/50\n",
      "700/700 [==============================] - 1s 2ms/step - loss: 0.1393 - acc: 0.9472 - val_loss: 0.1402 - val_acc: 0.9476\n",
      "Epoch 44/50\n",
      "700/700 [==============================] - 1s 2ms/step - loss: 0.1393 - acc: 0.9472 - val_loss: 0.1400 - val_acc: 0.9476\n",
      "Epoch 45/50\n",
      "700/700 [==============================] - 1s 2ms/step - loss: 0.1393 - acc: 0.9472 - val_loss: 0.1399 - val_acc: 0.9477\n",
      "Epoch 46/50\n",
      "700/700 [==============================] - 1s 2ms/step - loss: 0.1392 - acc: 0.9472 - val_loss: 0.1399 - val_acc: 0.9477\n",
      "Epoch 47/50\n",
      "700/700 [==============================] - 1s 2ms/step - loss: 0.1389 - acc: 0.9472 - val_loss: 0.1400 - val_acc: 0.9477\n",
      "Epoch 48/50\n",
      "700/700 [==============================] - 1s 2ms/step - loss: 0.1390 - acc: 0.9472 - val_loss: 0.1400 - val_acc: 0.9477\n",
      "Epoch 49/50\n",
      "700/700 [==============================] - 1s 2ms/step - loss: 0.1390 - acc: 0.9465 - val_loss: 0.1400 - val_acc: 0.9477\n",
      "Epoch 50/50\n",
      "700/700 [==============================] - 1s 2ms/step - loss: 0.1388 - acc: 0.9473 - val_loss: 0.1398 - val_acc: 0.9477\n"
     ]
    }
   ],
   "source": [
    "history = model.fit(x=[x_train, y_input_train], y=[yoh_train],\n",
    "          validation_data=([x_val, y_input_val], [yoh_val]),\n",
    "          verbose=1,\n",
    "          batch_size=64,\n",
    "          epochs=50)"
   ]
  },
  {
   "cell_type": "code",
   "execution_count": 20,
   "metadata": {
    "collapsed": false
   },
   "outputs": [
    {
     "name": "stdout",
     "output_type": "stream",
     "text": [
      "Train: 94.73%; Val: 94.77%; Test: 94.82%\n"
     ]
    }
   ],
   "source": [
    "scores = model.evaluate([x_test, y_input_test], yoh_test, verbose=0)\n",
    "print(\"Train: %.2f%%; Val: %.2f%%; Test: %.2f%%\" % \n",
    "      (np.max(history.history['acc'])*100, np.max(history.history['val_acc'])*100, scores[1]*100)\n",
    "     )"
   ]
  },
  {
   "cell_type": "code",
   "execution_count": null,
   "metadata": {
    "collapsed": false
   },
   "outputs": [],
   "source": [
    "output_path = \"../output/\"\n",
    "\n",
    "print(os.getpid())\n",
    "filepath=output_path + \"progress/seq2seq-stacked-weights-best.hdf5\"\n",
    "MC = ModelCheckpoint(filepath, monitor='val_acc', verbose=0, save_best_only=True, mode='max')\n",
    "\n",
    "figPath = os.path.sep.join([output_path, \"monitor/{}.png\".format(os.getpid())])\n",
    "jsonPath = os.path.sep.join([output_path, \"monitor/{}.json\".format(os.getpid())])\n",
    "TM = TrainingMonitor(figPath, jsonPath=jsonPath, startAt=0)\n",
    "\n",
    "RLR = ReduceLROnPlateau(factor=np.sqrt(0.1), cooldown=0, patience=5, min_lr=0.5e-6)\n",
    "\n",
    "callbacks = [MC, TM, RLR]"
   ]
  },
  {
   "cell_type": "code",
   "execution_count": 21,
   "metadata": {
    "collapsed": false
   },
   "outputs": [
    {
     "name": "stderr",
     "output_type": "stream",
     "text": [
      "C:\\Users\\boringtao\\Anaconda3\\lib\\site-packages\\keras\\engine\\topology.py:2361: UserWarning: Layer lstm_2 was passed non-serializable keyword arguments: {'initial_state': [<tf.Tensor 'lstm_1/TensorArrayReadV3:0' shape=(?, 64) dtype=float32>, <tf.Tensor 'lstm_1/TensorArrayReadV3:0' shape=(?, 64) dtype=float32>]}. They will not be included in the serialized model (and thus will be missing at deserialization time).\n",
      "  str(node.arguments) + '. They will not be included '\n"
     ]
    }
   ],
   "source": [
    "model_json = model.to_json()\n",
    "with open(\"../output/saved/date_model_seq2seq_94.33.json\", \"w\") as json_file:\n",
    "    json_file.write(model_json)\n",
    "model.save_weights(\"../output/saved/date_weight_seq2seq_94.33.hdf5\")"
   ]
  },
  {
   "cell_type": "code",
   "execution_count": null,
   "metadata": {
    "collapsed": true
   },
   "outputs": [],
   "source": []
  }
 ],
 "metadata": {
  "anaconda-cloud": {},
  "kernelspec": {
   "display_name": "Python [default]",
   "language": "python",
   "name": "python3"
  },
  "language_info": {
   "codemirror_mode": {
    "name": "ipython",
    "version": 3
   },
   "file_extension": ".py",
   "mimetype": "text/x-python",
   "name": "python",
   "nbconvert_exporter": "python",
   "pygments_lexer": "ipython3",
   "version": "3.5.2"
  }
 },
 "nbformat": 4,
 "nbformat_minor": 1
}
