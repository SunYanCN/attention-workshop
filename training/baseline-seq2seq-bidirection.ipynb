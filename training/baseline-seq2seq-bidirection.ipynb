{
 "cells": [
  {
   "cell_type": "code",
   "execution_count": 1,
   "metadata": {
    "collapsed": false
   },
   "outputs": [
    {
     "name": "stderr",
     "output_type": "stream",
     "text": [
      "Using TensorFlow backend.\n"
     ]
    }
   ],
   "source": [
    "from keras.models import Sequential, model_from_json\n",
    "from keras.callbacks import ModelCheckpoint, EarlyStopping, ReduceLROnPlateau\n",
    "from keras.constraints import maxnorm\n",
    "from keras import regularizers\n",
    "from keras.layers.normalization import BatchNormalization\n",
    "from keras.layers import Dense, Dropout, Activation, Flatten, Input\n",
    "from keras.layers import Conv2D, MaxPooling2D, GlobalAveragePooling2D, SeparableConv2D\n",
    "from keras.layers import Bidirectional, RepeatVector, TimeDistributed\n",
    "from keras.layers import concatenate, add, Lambda\n",
    "from keras.layers import LSTM\n",
    "from keras.models import Model\n",
    "from keras.regularizers import l2\n",
    "\n",
    "from keras.applications import imagenet_utils, Xception\n",
    "from keras.preprocessing.image import img_to_array\n",
    "import keras.backend as K\n",
    "\n",
    "import numpy as np \n",
    "import json\n",
    "import os\n",
    "import cv2\n",
    "import h5py\n",
    "import pickle\n",
    "\n",
    "import matplotlib.pyplot as plt\n",
    "%matplotlib inline"
   ]
  },
  {
   "cell_type": "code",
   "execution_count": 2,
   "metadata": {
    "collapsed": true
   },
   "outputs": [],
   "source": [
    "import tensorflow as tf\n",
    "config = tf.ConfigProto()\n",
    "config.gpu_options.allow_growth = True\n",
    "session = tf.Session(config=config)"
   ]
  },
  {
   "cell_type": "code",
   "execution_count": 3,
   "metadata": {
    "collapsed": true
   },
   "outputs": [],
   "source": [
    "from helpers import TrainingMonitor\n",
    "from helpers import Utils"
   ]
  },
  {
   "cell_type": "code",
   "execution_count": 4,
   "metadata": {
    "collapsed": true
   },
   "outputs": [],
   "source": [
    "Xoh_file = open('../input/dataset/Xoh.pickle', 'rb')\n",
    "x = pickle.load(Xoh_file)\n",
    "Xoh_file.close()"
   ]
  },
  {
   "cell_type": "code",
   "execution_count": 5,
   "metadata": {
    "collapsed": true
   },
   "outputs": [],
   "source": [
    "Yoh_file = open('../input/dataset/Yoh.pickle', 'rb')\n",
    "y = pickle.load(Yoh_file)\n",
    "Yoh_file.close()"
   ]
  },
  {
   "cell_type": "code",
   "execution_count": 6,
   "metadata": {
    "collapsed": false
   },
   "outputs": [
    {
     "data": {
      "text/plain": [
       "(30, 37)"
      ]
     },
     "execution_count": 6,
     "metadata": {},
     "output_type": "execute_result"
    }
   ],
   "source": [
    "x[0].shape"
   ]
  },
  {
   "cell_type": "code",
   "execution_count": 7,
   "metadata": {
    "collapsed": false
   },
   "outputs": [
    {
     "data": {
      "text/plain": [
       "(10, 11)"
      ]
     },
     "execution_count": 7,
     "metadata": {},
     "output_type": "execute_result"
    }
   ],
   "source": [
    "y[0].shape"
   ]
  },
  {
   "cell_type": "code",
   "execution_count": 8,
   "metadata": {
    "collapsed": false
   },
   "outputs": [],
   "source": [
    "train_split, val_split = 0.7, 0.15\n",
    "\n",
    "train_len = int(train_split * x.shape[0])\n",
    "train_val_len = int((train_split + val_split) * x.shape[0])\n",
    "\n",
    "x_train = x[:train_len]\n",
    "x_val = x[train_len:train_val_len]\n",
    "x_test = x[train_val_len:]\n",
    "\n",
    "y_train = y[:train_len]\n",
    "y_val = y[train_len:train_val_len]\n",
    "y_test = y[train_val_len:]"
   ]
  },
  {
   "cell_type": "code",
   "execution_count": 9,
   "metadata": {
    "collapsed": false
   },
   "outputs": [
    {
     "data": {
      "text/plain": [
       "(700, 30, 37)"
      ]
     },
     "execution_count": 9,
     "metadata": {},
     "output_type": "execute_result"
    }
   ],
   "source": [
    "x_train.shape"
   ]
  },
  {
   "cell_type": "code",
   "execution_count": 10,
   "metadata": {
    "collapsed": false
   },
   "outputs": [
    {
     "data": {
      "text/plain": [
       "(700, 10, 11)"
      ]
     },
     "execution_count": 10,
     "metadata": {},
     "output_type": "execute_result"
    }
   ],
   "source": [
    "y_train.shape"
   ]
  },
  {
   "cell_type": "code",
   "execution_count": 11,
   "metadata": {
    "collapsed": false
   },
   "outputs": [
    {
     "name": "stdout",
     "output_type": "stream",
     "text": [
      "_________________________________________________________________\n",
      "Layer (type)                 Output Shape              Param #   \n",
      "=================================================================\n",
      "bidirectional_1 (Bidirection (None, 30, 128)           52224     \n",
      "_________________________________________________________________\n",
      "bidirectional_2 (Bidirection (None, 64)                41216     \n",
      "_________________________________________________________________\n",
      "repeat_vector_1 (RepeatVecto (None, 10, 64)            0         \n",
      "_________________________________________________________________\n",
      "lstm_3 (LSTM)                (None, 10, 64)            33024     \n",
      "_________________________________________________________________\n",
      "time_distributed_1 (TimeDist (None, 10, 11)            715       \n",
      "=================================================================\n",
      "Total params: 127,179\n",
      "Trainable params: 127,179\n",
      "Non-trainable params: 0\n",
      "_________________________________________________________________\n",
      "None\n"
     ]
    }
   ],
   "source": [
    "model = Sequential() \n",
    "model.add(Bidirectional(LSTM(64, return_sequences=True), input_shape=(30, 37)))\n",
    "model.add(Bidirectional(LSTM(32)))\n",
    "model.add(RepeatVector(10))\n",
    "model.add(LSTM(64, return_sequences=True))\n",
    "model.add(TimeDistributed(Dense(11, activation=\"softmax\")))\n",
    "model.compile(loss=\"categorical_crossentropy\", optimizer=\"adam\", metrics=[\"accuracy\"]) \n",
    "print(model.summary())"
   ]
  },
  {
   "cell_type": "code",
   "execution_count": 12,
   "metadata": {
    "collapsed": false
   },
   "outputs": [
    {
     "name": "stdout",
     "output_type": "stream",
     "text": [
      "9596\n"
     ]
    }
   ],
   "source": [
    "output_path = \"../output/\"\n",
    "\n",
    "print(os.getpid())\n",
    "filepath=output_path + \"progress/seq2seq-bidirectional-weights-best.hdf5\"\n",
    "MC = ModelCheckpoint(filepath, monitor='val_acc', verbose=0, save_best_only=True, mode='max')\n",
    "\n",
    "figPath = os.path.sep.join([output_path, \"monitor/{}.png\".format(os.getpid())])\n",
    "jsonPath = os.path.sep.join([output_path, \"monitor/{}.json\".format(os.getpid())])\n",
    "TM = TrainingMonitor(figPath, jsonPath=jsonPath, startAt=0)\n",
    "\n",
    "RLR = ReduceLROnPlateau(factor=np.sqrt(0.1), cooldown=0, patience=5, min_lr=0.5e-6)\n",
    "\n",
    "callbacks = [MC, TM, RLR]"
   ]
  },
  {
   "cell_type": "code",
   "execution_count": 13,
   "metadata": {
    "collapsed": false
   },
   "outputs": [
    {
     "name": "stdout",
     "output_type": "stream",
     "text": [
      "Train on 700 samples, validate on 150 samples\n",
      "Epoch 1/100\n",
      "700/700 [==============================] - 8s 11ms/step - loss: 2.2560 - acc: 0.2059 - val_loss: 2.1530 - val_acc: 0.2467\n",
      "Epoch 2/100\n",
      "700/700 [==============================] - 4s 6ms/step - loss: 2.1305 - acc: 0.2353 - val_loss: 2.0943 - val_acc: 0.1693\n",
      "Epoch 3/100\n",
      "700/700 [==============================] - 4s 6ms/step - loss: 2.0465 - acc: 0.2637 - val_loss: 1.9839 - val_acc: 0.3047\n",
      "Epoch 4/100\n",
      "700/700 [==============================] - 4s 6ms/step - loss: 1.9175 - acc: 0.3264 - val_loss: 1.8410 - val_acc: 0.3320\n",
      "Epoch 5/100\n",
      "700/700 [==============================] - 4s 6ms/step - loss: 1.7861 - acc: 0.4107 - val_loss: 1.7191 - val_acc: 0.4393\n",
      "Epoch 6/100\n",
      "700/700 [==============================] - 4s 6ms/step - loss: 1.6810 - acc: 0.4570 - val_loss: 1.6217 - val_acc: 0.4680\n",
      "Epoch 7/100\n",
      "700/700 [==============================] - 4s 6ms/step - loss: 1.5921 - acc: 0.4807 - val_loss: 1.5302 - val_acc: 0.4920\n",
      "Epoch 8/100\n",
      "700/700 [==============================] - 4s 6ms/step - loss: 1.5034 - acc: 0.5163 - val_loss: 1.4416 - val_acc: 0.5187\n",
      "Epoch 9/100\n",
      "700/700 [==============================] - 4s 6ms/step - loss: 1.3637 - acc: 0.5736 - val_loss: 1.2633 - val_acc: 0.5960\n",
      "Epoch 10/100\n",
      "700/700 [==============================] - 4s 6ms/step - loss: 1.1939 - acc: 0.6034 - val_loss: 1.1289 - val_acc: 0.5993\n",
      "Epoch 11/100\n",
      "700/700 [==============================] - 4s 6ms/step - loss: 1.0872 - acc: 0.6127 - val_loss: 1.0575 - val_acc: 0.6060\n",
      "Epoch 12/100\n",
      "700/700 [==============================] - 4s 6ms/step - loss: 1.0286 - acc: 0.6213 - val_loss: 1.0131 - val_acc: 0.6160\n",
      "Epoch 13/100\n",
      "700/700 [==============================] - 4s 6ms/step - loss: 0.9872 - acc: 0.6294 - val_loss: 0.9865 - val_acc: 0.6167\n",
      "Epoch 14/100\n",
      "700/700 [==============================] - 4s 6ms/step - loss: 0.9666 - acc: 0.6386 - val_loss: 0.9848 - val_acc: 0.6200\n",
      "Epoch 15/100\n",
      "700/700 [==============================] - 4s 6ms/step - loss: 0.9473 - acc: 0.6431 - val_loss: 0.9587 - val_acc: 0.6327\n",
      "Epoch 16/100\n",
      "700/700 [==============================] - 4s 6ms/step - loss: 0.9244 - acc: 0.6606 - val_loss: 0.9170 - val_acc: 0.6527\n",
      "Epoch 17/100\n",
      "700/700 [==============================] - 4s 6ms/step - loss: 0.9024 - acc: 0.6639 - val_loss: 0.9151 - val_acc: 0.6607\n",
      "Epoch 18/100\n",
      "700/700 [==============================] - 4s 6ms/step - loss: 0.8797 - acc: 0.6761 - val_loss: 0.9071 - val_acc: 0.6487\n",
      "Epoch 19/100\n",
      "700/700 [==============================] - 4s 6ms/step - loss: 0.8611 - acc: 0.6807 - val_loss: 0.8759 - val_acc: 0.6727\n",
      "Epoch 20/100\n",
      "700/700 [==============================] - 4s 6ms/step - loss: 0.8387 - acc: 0.6939 - val_loss: 0.8805 - val_acc: 0.6687\n",
      "Epoch 21/100\n",
      "700/700 [==============================] - 4s 6ms/step - loss: 0.8258 - acc: 0.7016 - val_loss: 0.8491 - val_acc: 0.6780\n",
      "Epoch 22/100\n",
      "700/700 [==============================] - 4s 6ms/step - loss: 0.8025 - acc: 0.7054 - val_loss: 0.8367 - val_acc: 0.6793\n",
      "Epoch 23/100\n",
      "700/700 [==============================] - 4s 6ms/step - loss: 0.7851 - acc: 0.7174 - val_loss: 0.8262 - val_acc: 0.6827\n",
      "Epoch 24/100\n",
      "700/700 [==============================] - 4s 6ms/step - loss: 0.7737 - acc: 0.7193 - val_loss: 0.8129 - val_acc: 0.6947\n",
      "Epoch 25/100\n",
      "700/700 [==============================] - 4s 6ms/step - loss: 0.7558 - acc: 0.7267 - val_loss: 0.7798 - val_acc: 0.7067\n",
      "Epoch 26/100\n",
      "700/700 [==============================] - 4s 6ms/step - loss: 0.7353 - acc: 0.7304 - val_loss: 0.7666 - val_acc: 0.7147\n",
      "Epoch 27/100\n",
      "700/700 [==============================] - 4s 6ms/step - loss: 0.7166 - acc: 0.7399 - val_loss: 0.7607 - val_acc: 0.7180\n",
      "Epoch 28/100\n",
      "700/700 [==============================] - 4s 6ms/step - loss: 0.7010 - acc: 0.7483 - val_loss: 0.7523 - val_acc: 0.7220\n",
      "Epoch 29/100\n",
      "700/700 [==============================] - 4s 6ms/step - loss: 0.6921 - acc: 0.7527 - val_loss: 0.7499 - val_acc: 0.7260\n",
      "Epoch 30/100\n",
      "700/700 [==============================] - 4s 6ms/step - loss: 0.6867 - acc: 0.7543 - val_loss: 0.7368 - val_acc: 0.7273\n",
      "Epoch 31/100\n",
      "700/700 [==============================] - 4s 6ms/step - loss: 0.6696 - acc: 0.7544 - val_loss: 0.7359 - val_acc: 0.7220\n",
      "Epoch 32/100\n",
      "700/700 [==============================] - 4s 6ms/step - loss: 0.6432 - acc: 0.7729 - val_loss: 0.7027 - val_acc: 0.7373\n",
      "Epoch 33/100\n",
      "700/700 [==============================] - 4s 6ms/step - loss: 0.6256 - acc: 0.7786 - val_loss: 0.7002 - val_acc: 0.7413\n",
      "Epoch 34/100\n",
      "700/700 [==============================] - 4s 6ms/step - loss: 0.6216 - acc: 0.7813 - val_loss: 0.6920 - val_acc: 0.7453\n",
      "Epoch 35/100\n",
      "700/700 [==============================] - 4s 6ms/step - loss: 0.6012 - acc: 0.7839 - val_loss: 0.6731 - val_acc: 0.7393\n",
      "Epoch 36/100\n",
      "700/700 [==============================] - 4s 6ms/step - loss: 0.5843 - acc: 0.7916 - val_loss: 0.6590 - val_acc: 0.7507\n",
      "Epoch 37/100\n",
      "700/700 [==============================] - 4s 6ms/step - loss: 0.5663 - acc: 0.7990 - val_loss: 0.6537 - val_acc: 0.7573\n",
      "Epoch 38/100\n",
      "700/700 [==============================] - 4s 6ms/step - loss: 0.5531 - acc: 0.8039 - val_loss: 0.6382 - val_acc: 0.7587\n",
      "Epoch 39/100\n",
      "700/700 [==============================] - 4s 6ms/step - loss: 0.5402 - acc: 0.8116 - val_loss: 0.6310 - val_acc: 0.7680\n",
      "Epoch 40/100\n",
      "700/700 [==============================] - 4s 6ms/step - loss: 0.5239 - acc: 0.8136 - val_loss: 0.6272 - val_acc: 0.7627\n",
      "Epoch 41/100\n",
      "700/700 [==============================] - 4s 6ms/step - loss: 0.5140 - acc: 0.8180 - val_loss: 0.6133 - val_acc: 0.7687\n",
      "Epoch 42/100\n",
      "700/700 [==============================] - 4s 6ms/step - loss: 0.4982 - acc: 0.8216 - val_loss: 0.5957 - val_acc: 0.7767\n",
      "Epoch 43/100\n",
      "700/700 [==============================] - 4s 6ms/step - loss: 0.4852 - acc: 0.8300 - val_loss: 0.5864 - val_acc: 0.7747\n",
      "Epoch 44/100\n",
      "700/700 [==============================] - 4s 6ms/step - loss: 0.4799 - acc: 0.8290 - val_loss: 0.5955 - val_acc: 0.7693\n",
      "Epoch 45/100\n",
      "700/700 [==============================] - 4s 6ms/step - loss: 0.4611 - acc: 0.8369 - val_loss: 0.5933 - val_acc: 0.7720\n",
      "Epoch 46/100\n",
      "700/700 [==============================] - 4s 6ms/step - loss: 0.4549 - acc: 0.8384 - val_loss: 0.5771 - val_acc: 0.7773\n",
      "Epoch 47/100\n",
      "700/700 [==============================] - 4s 6ms/step - loss: 0.4385 - acc: 0.8473 - val_loss: 0.5609 - val_acc: 0.7807\n",
      "Epoch 48/100\n",
      "700/700 [==============================] - 4s 6ms/step - loss: 0.4348 - acc: 0.8506 - val_loss: 0.5957 - val_acc: 0.7820\n",
      "Epoch 49/100\n",
      "700/700 [==============================] - 4s 6ms/step - loss: 0.4509 - acc: 0.8437 - val_loss: 0.5830 - val_acc: 0.7800\n",
      "Epoch 50/100\n",
      "700/700 [==============================] - 4s 6ms/step - loss: 0.4297 - acc: 0.8490 - val_loss: 0.5418 - val_acc: 0.7987\n",
      "Epoch 51/100\n",
      "700/700 [==============================] - 5s 6ms/step - loss: 0.4036 - acc: 0.8623 - val_loss: 0.5339 - val_acc: 0.7967\n",
      "Epoch 52/100\n",
      "700/700 [==============================] - 4s 6ms/step - loss: 0.3968 - acc: 0.8636 - val_loss: 0.5590 - val_acc: 0.7993\n",
      "Epoch 53/100\n",
      "700/700 [==============================] - 4s 6ms/step - loss: 0.3899 - acc: 0.8633 - val_loss: 0.5413 - val_acc: 0.7940\n",
      "Epoch 54/100\n",
      "700/700 [==============================] - 4s 6ms/step - loss: 0.3708 - acc: 0.8689 - val_loss: 0.5102 - val_acc: 0.8140\n",
      "Epoch 55/100\n",
      "700/700 [==============================] - 4s 6ms/step - loss: 0.3542 - acc: 0.8834 - val_loss: 0.5285 - val_acc: 0.7980\n",
      "Epoch 56/100\n",
      "700/700 [==============================] - 4s 6ms/step - loss: 0.3473 - acc: 0.8820 - val_loss: 0.5184 - val_acc: 0.8113\n",
      "Epoch 57/100\n",
      "700/700 [==============================] - 4s 6ms/step - loss: 0.3387 - acc: 0.8893 - val_loss: 0.5249 - val_acc: 0.8100\n",
      "Epoch 58/100\n",
      "700/700 [==============================] - 4s 6ms/step - loss: 0.3229 - acc: 0.8949 - val_loss: 0.4884 - val_acc: 0.8167\n",
      "Epoch 59/100\n",
      "700/700 [==============================] - 4s 6ms/step - loss: 0.3075 - acc: 0.9029 - val_loss: 0.4806 - val_acc: 0.8253\n",
      "Epoch 60/100\n",
      "700/700 [==============================] - 4s 6ms/step - loss: 0.3003 - acc: 0.9050 - val_loss: 0.4977 - val_acc: 0.8167\n",
      "Epoch 61/100\n",
      "700/700 [==============================] - 4s 6ms/step - loss: 0.2885 - acc: 0.9116 - val_loss: 0.4886 - val_acc: 0.8107\n",
      "Epoch 62/100\n",
      "700/700 [==============================] - 4s 6ms/step - loss: 0.3272 - acc: 0.8900 - val_loss: 0.4885 - val_acc: 0.8220\n",
      "Epoch 63/100\n",
      "700/700 [==============================] - 4s 6ms/step - loss: 0.3441 - acc: 0.8814 - val_loss: 0.5038 - val_acc: 0.8233\n",
      "Epoch 64/100\n",
      "700/700 [==============================] - 4s 6ms/step - loss: 0.2945 - acc: 0.9054 - val_loss: 0.4752 - val_acc: 0.8260\n",
      "Epoch 65/100\n",
      "700/700 [==============================] - 4s 6ms/step - loss: 0.2699 - acc: 0.9167 - val_loss: 0.4714 - val_acc: 0.8327\n",
      "Epoch 66/100\n",
      "700/700 [==============================] - 4s 6ms/step - loss: 0.2582 - acc: 0.9189 - val_loss: 0.4654 - val_acc: 0.8287\n",
      "Epoch 67/100\n",
      "700/700 [==============================] - 4s 6ms/step - loss: 0.2401 - acc: 0.9303 - val_loss: 0.4467 - val_acc: 0.8347\n",
      "Epoch 68/100\n",
      "700/700 [==============================] - 4s 6ms/step - loss: 0.2264 - acc: 0.9361 - val_loss: 0.4410 - val_acc: 0.8480\n",
      "Epoch 69/100\n",
      "700/700 [==============================] - 4s 6ms/step - loss: 0.2215 - acc: 0.9389 - val_loss: 0.4556 - val_acc: 0.8427\n",
      "Epoch 70/100\n",
      "700/700 [==============================] - 4s 6ms/step - loss: 0.2130 - acc: 0.9417 - val_loss: 0.4448 - val_acc: 0.8427\n",
      "Epoch 71/100\n",
      "700/700 [==============================] - 4s 6ms/step - loss: 0.2058 - acc: 0.9457 - val_loss: 0.4382 - val_acc: 0.8460\n",
      "Epoch 72/100\n",
      "700/700 [==============================] - 4s 6ms/step - loss: 0.1979 - acc: 0.9484 - val_loss: 0.4403 - val_acc: 0.8427\n",
      "Epoch 73/100\n",
      "700/700 [==============================] - 4s 6ms/step - loss: 0.1879 - acc: 0.9547 - val_loss: 0.4294 - val_acc: 0.8553\n",
      "Epoch 74/100\n",
      "700/700 [==============================] - 4s 6ms/step - loss: 0.1814 - acc: 0.9573 - val_loss: 0.4375 - val_acc: 0.8487\n",
      "Epoch 75/100\n",
      "700/700 [==============================] - 4s 6ms/step - loss: 0.1757 - acc: 0.9577 - val_loss: 0.4241 - val_acc: 0.8560\n",
      "Epoch 76/100\n",
      "700/700 [==============================] - 4s 6ms/step - loss: 0.1668 - acc: 0.9617 - val_loss: 0.4450 - val_acc: 0.8433\n",
      "Epoch 77/100\n",
      "700/700 [==============================] - 4s 6ms/step - loss: 0.1672 - acc: 0.9601 - val_loss: 0.4281 - val_acc: 0.8560\n",
      "Epoch 78/100\n",
      "700/700 [==============================] - 4s 6ms/step - loss: 0.1611 - acc: 0.9614 - val_loss: 0.4188 - val_acc: 0.8553\n",
      "Epoch 79/100\n",
      "700/700 [==============================] - 4s 6ms/step - loss: 0.1551 - acc: 0.9616 - val_loss: 0.4365 - val_acc: 0.8480\n",
      "Epoch 80/100\n",
      "700/700 [==============================] - 4s 6ms/step - loss: 0.1478 - acc: 0.9680 - val_loss: 0.4619 - val_acc: 0.8447\n",
      "Epoch 81/100\n",
      "700/700 [==============================] - 4s 6ms/step - loss: 0.1368 - acc: 0.9729 - val_loss: 0.4231 - val_acc: 0.8587\n",
      "Epoch 82/100\n",
      "700/700 [==============================] - 4s 6ms/step - loss: 0.1278 - acc: 0.9769 - val_loss: 0.4276 - val_acc: 0.8513\n",
      "Epoch 83/100\n",
      "700/700 [==============================] - 4s 6ms/step - loss: 0.1264 - acc: 0.9776 - val_loss: 0.4351 - val_acc: 0.8560\n",
      "Epoch 84/100\n",
      "700/700 [==============================] - 4s 6ms/step - loss: 0.1214 - acc: 0.9787 - val_loss: 0.4420 - val_acc: 0.8587\n",
      "Epoch 85/100\n",
      "700/700 [==============================] - 4s 6ms/step - loss: 0.1103 - acc: 0.9823 - val_loss: 0.4107 - val_acc: 0.8607\n",
      "Epoch 86/100\n",
      "700/700 [==============================] - 4s 6ms/step - loss: 0.1012 - acc: 0.9869 - val_loss: 0.4102 - val_acc: 0.8680\n",
      "Epoch 87/100\n",
      "700/700 [==============================] - 4s 6ms/step - loss: 0.0983 - acc: 0.9869 - val_loss: 0.4124 - val_acc: 0.8673\n",
      "Epoch 88/100\n",
      "700/700 [==============================] - 4s 6ms/step - loss: 0.0961 - acc: 0.9877 - val_loss: 0.4122 - val_acc: 0.8667\n",
      "Epoch 89/100\n",
      "700/700 [==============================] - 4s 6ms/step - loss: 0.0944 - acc: 0.9881 - val_loss: 0.4082 - val_acc: 0.8693\n",
      "Epoch 90/100\n",
      "700/700 [==============================] - 4s 6ms/step - loss: 0.0928 - acc: 0.9886 - val_loss: 0.4135 - val_acc: 0.8653\n",
      "Epoch 91/100\n",
      "700/700 [==============================] - 4s 6ms/step - loss: 0.0910 - acc: 0.9883 - val_loss: 0.4116 - val_acc: 0.8640\n",
      "Epoch 92/100\n",
      "700/700 [==============================] - 4s 6ms/step - loss: 0.0897 - acc: 0.9901 - val_loss: 0.4097 - val_acc: 0.8660\n",
      "Epoch 93/100\n",
      "700/700 [==============================] - 4s 6ms/step - loss: 0.0882 - acc: 0.9904 - val_loss: 0.4074 - val_acc: 0.8673\n",
      "Epoch 94/100\n",
      "700/700 [==============================] - 4s 6ms/step - loss: 0.0869 - acc: 0.9907 - val_loss: 0.4113 - val_acc: 0.8660\n",
      "Epoch 95/100\n",
      "700/700 [==============================] - 4s 6ms/step - loss: 0.0850 - acc: 0.9900 - val_loss: 0.4107 - val_acc: 0.8660\n",
      "Epoch 96/100\n",
      "700/700 [==============================] - 4s 6ms/step - loss: 0.0837 - acc: 0.9913 - val_loss: 0.4067 - val_acc: 0.8640\n",
      "Epoch 97/100\n",
      "700/700 [==============================] - 5s 6ms/step - loss: 0.0827 - acc: 0.9910 - val_loss: 0.4082 - val_acc: 0.8653\n",
      "Epoch 98/100\n",
      "700/700 [==============================] - 4s 6ms/step - loss: 0.0811 - acc: 0.9921 - val_loss: 0.4114 - val_acc: 0.8647\n",
      "Epoch 99/100\n",
      "700/700 [==============================] - 4s 6ms/step - loss: 0.0794 - acc: 0.9923 - val_loss: 0.4134 - val_acc: 0.8627\n",
      "Epoch 100/100\n",
      "700/700 [==============================] - 4s 6ms/step - loss: 0.0782 - acc: 0.9929 - val_loss: 0.4112 - val_acc: 0.8673\n"
     ]
    }
   ],
   "source": [
    "history = model.fit(x_train, y_train,\n",
    "            batch_size=32,\n",
    "            epochs=100,\n",
    "            validation_data=(x_val, y_val),\n",
    "            shuffle=\"batch\",\n",
    "            callbacks=callbacks)"
   ]
  },
  {
   "cell_type": "code",
   "execution_count": 15,
   "metadata": {
    "collapsed": false
   },
   "outputs": [
    {
     "name": "stdout",
     "output_type": "stream",
     "text": [
      "Train: 99.29%; Val: 86.93%; Test: 87.40%\n"
     ]
    }
   ],
   "source": [
    "scores = model.evaluate(x_test, y_test, verbose=0)\n",
    "print(\"Train: %.2f%%; Val: %.2f%%; Test: %.2f%%\" % \n",
    "      (np.max(history.history['acc'])*100, np.max(history.history['val_acc'])*100, scores[1]*100)\n",
    "     )"
   ]
  },
  {
   "cell_type": "code",
   "execution_count": null,
   "metadata": {
    "collapsed": true
   },
   "outputs": [],
   "source": [
    "model_json = model.to_json()\n",
    "with open(\"../output/saved/date_model_seq2seq_wide_bidirection_93.60.json\", \"w\") as json_file:\n",
    "    json_file.write(model_json)\n",
    "model.save_weights(\"../output/saved/date_weight_wide_seq2seq_bidirection_93.60.hdf5\")"
   ]
  },
  {
   "cell_type": "code",
   "execution_count": null,
   "metadata": {
    "collapsed": true
   },
   "outputs": [],
   "source": []
  }
 ],
 "metadata": {
  "anaconda-cloud": {},
  "kernelspec": {
   "display_name": "Python [default]",
   "language": "python",
   "name": "python3"
  },
  "language_info": {
   "codemirror_mode": {
    "name": "ipython",
    "version": 3
   },
   "file_extension": ".py",
   "mimetype": "text/x-python",
   "name": "python",
   "nbconvert_exporter": "python",
   "pygments_lexer": "ipython3",
   "version": "3.5.2"
  }
 },
 "nbformat": 4,
 "nbformat_minor": 1
}
